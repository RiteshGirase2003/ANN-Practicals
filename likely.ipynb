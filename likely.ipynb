{
 "cells": [
  {
   "cell_type": "code",
   "execution_count": 1,
   "metadata": {},
   "outputs": [
    {
     "name": "stdout",
     "output_type": "stream",
     "text": [
      "a & b = 4 (Binary: 0b100)\n",
      "a | b = 15 (Binary: 0b1111)\n",
      "a ^ b = 11 (Binary: 0b1011)\n",
      "~a = -13 (Binary: -0b1101)\n",
      "a << 2 = 48 (Binary: 0b110000)\n",
      "a >> 2 = 3 (Binary: 0b11)\n",
      "Is bit 3 set in a? True\n",
      "a after setting bit 2 = 12 (Binary: 0b1100)\n",
      "a after clearing bit 3 = 4 (Binary: 0b100)\n"
     ]
    }
   ],
   "source": [
    "# Bit manipulation in Python\n",
    "\n",
    "# Define two numbers\n",
    "a = 12  # Binary: 1100\n",
    "b = 7   # Binary: 0111\n",
    "\n",
    "# AND operation\n",
    "and_result = a & b  # Binary: 0100\n",
    "print(f\"a & b = {and_result} (Binary: {bin(and_result)})\")\n",
    "\n",
    "# OR operation\n",
    "or_result = a | b   # Binary: 1111\n",
    "print(f\"a | b = {or_result} (Binary: {bin(or_result)})\")\n",
    "\n",
    "# XOR operation\n",
    "xor_result = a ^ b  # Binary: 1011\n",
    "print(f\"a ^ b = {xor_result} (Binary: {bin(xor_result)})\")\n",
    "\n",
    "# NOT operation (bitwise negation)\n",
    "not_result = ~a     # Binary: ...11100101 (in 2's complement)\n",
    "print(f\"~a = {not_result} (Binary: {bin(not_result)})\")\n",
    "\n",
    "# Left shift\n",
    "left_shift_result = a << 2  # Binary: 110000\n",
    "print(f\"a << 2 = {left_shift_result} (Binary: {bin(left_shift_result)})\")\n",
    "\n",
    "# Right shift\n",
    "right_shift_result = a >> 2  # Binary: 0011\n",
    "print(f\"a >> 2 = {right_shift_result} (Binary: {bin(right_shift_result)})\")\n",
    "\n",
    "# Check if a bit is set (bit 3 in this case)\n",
    "bit_position = 3\n",
    "is_set = (a & (1 << bit_position)) != 0\n",
    "print(f\"Is bit {bit_position} set in a? {is_set}\")\n",
    "\n",
    "# Set a bit (bit 2 in this case)\n",
    "bit_to_set = 2\n",
    "a = a | (1 << bit_to_set)\n",
    "print(f\"a after setting bit {bit_to_set} = {a} (Binary: {bin(a)})\")\n",
    "\n",
    "# Clear a bit (bit 3 in this case)\n",
    "bit_to_clear = 3\n",
    "a = a & ~(1 << bit_to_clear)\n",
    "print(f\"a after clearing bit {bit_to_clear} = {a} (Binary: {bin(a)})\")\n"
   ]
  },
  {
   "cell_type": "markdown",
   "metadata": {},
   "source": [
    "TREE"
   ]
  },
  {
   "cell_type": "code",
   "execution_count": 2,
   "metadata": {},
   "outputs": [],
   "source": [
    "class TreeNode:\n",
    "    def __init__(self, key):\n",
    "        self.left = None\n",
    "        self.right = None\n",
    "        self.value = key\n"
   ]
  },
  {
   "cell_type": "code",
   "execution_count": 3,
   "metadata": {},
   "outputs": [],
   "source": [
    "def insert(root, key):\n",
    "    if root is None:\n",
    "        return TreeNode(key)\n",
    "    else:\n",
    "        if key < root.value:\n",
    "            root.left = insert(root.left, key)\n",
    "        else:\n",
    "            root.right = insert(root.right, key)\n",
    "    return root\n"
   ]
  },
  {
   "cell_type": "code",
   "execution_count": 4,
   "metadata": {},
   "outputs": [],
   "source": [
    "def left_view(root):\n",
    "    result = []\n",
    "    _left_view(root, 0, result)\n",
    "    return result\n",
    "\n",
    "def _left_view(node, level, result):\n",
    "    if node is None:\n",
    "        return\n",
    "    if level == len(result):\n",
    "        result.append(node.value)\n",
    "    _left_view(node.left, level + 1, result)\n",
    "    _left_view(node.right, level + 1, result)\n"
   ]
  },
  {
   "cell_type": "code",
   "execution_count": 5,
   "metadata": {},
   "outputs": [],
   "source": [
    "def right_view(root):\n",
    "    result = []\n",
    "    _right_view(root, 0, result)\n",
    "    return result\n",
    "\n",
    "def _right_view(node, level, result):\n",
    "    if node is None:\n",
    "        return\n",
    "    if level == len(result):\n",
    "        result.append(node.value)\n",
    "    _right_view(node.right, level + 1, result)\n",
    "    _right_view(node.left, level + 1, result)\n"
   ]
  },
  {
   "cell_type": "code",
   "execution_count": 6,
   "metadata": {},
   "outputs": [],
   "source": [
    "def top_view(root):\n",
    "    result = []\n",
    "    _top_view(root, 0, 0, result)\n",
    "    return [value for _, value in sorted(result)]\n",
    "\n",
    "def _top_view(node, horizontal_distance, level, result):\n",
    "    if node is None:\n",
    "        return\n",
    "    if horizontal_distance not in [key for key, value in result]:\n",
    "        result.append((horizontal_distance, node.value))\n",
    "    _top_view(node.left, horizontal_distance - 1, level + 1, result)\n",
    "    _top_view(node.right, horizontal_distance + 1, level + 1, result)\n"
   ]
  },
  {
   "cell_type": "code",
   "execution_count": 7,
   "metadata": {},
   "outputs": [
    {
     "name": "stdout",
     "output_type": "stream",
     "text": [
      "Left View: [10, 5, 3]\n",
      "Right View: [10, 15, 17]\n",
      "Top View: [3, 5, 10, 15, 17]\n"
     ]
    }
   ],
   "source": [
    "# Example usage\n",
    "if __name__ == \"__main__\":\n",
    "    root = None\n",
    "    values = [10, 5, 15, 3, 7, 13, 17]\n",
    "\n",
    "    for value in values:\n",
    "        root = insert(root, value)\n",
    "\n",
    "    print(\"Left View:\", left_view(root))  # Leftmost nodes at each level\n",
    "    print(\"Right View:\", right_view(root))  # Rightmost nodes at each level\n",
    "    print(\"Top View:\", top_view(root))  # Topmost nodes visible when viewed from above\n"
   ]
  },
  {
   "cell_type": "code",
   "execution_count": 8,
   "metadata": {},
   "outputs": [
    {
     "name": "stdout",
     "output_type": "stream",
     "text": [
      "Original Linked List:\n",
      "1 -> 2 -> 3 -> 4 -> 5 -> None\n",
      "Middle Element: 3\n",
      "Reversing Linked List:\n",
      "5 -> 4 -> 3 -> 2 -> 1 -> None\n",
      "Length of Linked List: 5\n"
     ]
    }
   ],
   "source": [
    "class ListNode:\n",
    "    def __init__(self, value):\n",
    "        self.value = value\n",
    "        self.next = None\n",
    "\n",
    "def append(head, value):\n",
    "    \"\"\"\n",
    "    Append a new node with the given value to the end of the linked list.\n",
    "    \"\"\"\n",
    "    new_node = ListNode(value)\n",
    "    if head is None:\n",
    "        return new_node\n",
    "    current = head\n",
    "    while current.next:\n",
    "        current = current.next\n",
    "    current.next = new_node\n",
    "    return head\n",
    "\n",
    "def find_middle(head):\n",
    "    \"\"\"\n",
    "    Find the middle element of the linked list using the slow and fast pointer technique.\n",
    "    \"\"\"\n",
    "    slow = head\n",
    "    fast = head\n",
    "    while fast and fast.next:\n",
    "        slow = slow.next\n",
    "        fast = fast.next.next\n",
    "    return slow.value if slow else None\n",
    "\n",
    "def reverse_list(head):\n",
    "    \"\"\"\n",
    "    Reverse the linked list in place.\n",
    "    \"\"\"\n",
    "    prev = None\n",
    "    current = head\n",
    "    while current:\n",
    "        next_node = current.next  # Store the next node\n",
    "        current.next = prev  # Reverse the current node's pointer\n",
    "        prev = current  # Move pointers one position forward\n",
    "        current = next_node\n",
    "    return prev\n",
    "\n",
    "def find_length(head):\n",
    "    \"\"\"\n",
    "    Find the length of the linked list.\n",
    "    \"\"\"\n",
    "    length = 0\n",
    "    current = head\n",
    "    while current:\n",
    "        length += 1\n",
    "        current = current.next\n",
    "    return length\n",
    "\n",
    "def print_list(head):\n",
    "    \"\"\"\n",
    "    Print the linked list.\n",
    "    \"\"\"\n",
    "    current = head\n",
    "    while current:\n",
    "        print(current.value, end=' -> ')\n",
    "        current = current.next\n",
    "    print('None')\n",
    "\n",
    "# Example usage\n",
    "if __name__ == \"__main__\":\n",
    "    head = None\n",
    "\n",
    "    # Creating the linked list: 1 -> 2 -> 3 -> 4 -> 5\n",
    "    for value in [1, 2, 3, 4, 5]:\n",
    "        head = append(head, value)\n",
    "\n",
    "    print(\"Original Linked List:\")\n",
    "    print_list(head)\n",
    "\n",
    "    print(\"Middle Element:\", find_middle(head))  # Should return 3\n",
    "\n",
    "    print(\"Reversing Linked List:\")\n",
    "    reversed_head = reverse_list(head)\n",
    "    print_list(reversed_head)\n",
    "\n",
    "    print(\"Length of Linked List:\", find_length(reversed_head))  # Should return 5\n"
   ]
  },
  {
   "cell_type": "markdown",
   "metadata": {},
   "source": [
    "Swapping numbers\n",
    "\n",
    "Summary\n",
    "\n",
    "Temporary Variable:\n",
    "Pros: Simple and clear.\n",
    "Cons: Uses extra memory.\n",
    "\n",
    "XOR Method:\n",
    "Pros: No extra memory required.\n",
    "Cons: Less intuitive for people unfamiliar with bitwise operations.\n",
    "\n",
    "Addition and Subtraction:\n",
    "Pros: No extra memory required.\n",
    "Cons: Can cause overflow if the numbers are large."
   ]
  },
  {
   "cell_type": "code",
   "execution_count": 9,
   "metadata": {},
   "outputs": [
    {
     "name": "stdout",
     "output_type": "stream",
     "text": [
      "Swapped using temp variable: x = 10, y = 5\n"
     ]
    }
   ],
   "source": [
    "def swap_using_temp(a, b):\n",
    "    \"\"\"\n",
    "    Swap two numbers using a temporary variable.\n",
    "    \"\"\"\n",
    "    temp = a\n",
    "    a = b\n",
    "    b = temp\n",
    "    return a, b\n",
    "\n",
    "# Example usage\n",
    "x, y = 5, 10\n",
    "x, y = swap_using_temp(x, y)\n",
    "print(f\"Swapped using temp variable: x = {x}, y = {y}\")\n"
   ]
  },
  {
   "cell_type": "code",
   "execution_count": 10,
   "metadata": {},
   "outputs": [
    {
     "name": "stdout",
     "output_type": "stream",
     "text": [
      "Swapped using XOR: x = 10, y = 5\n"
     ]
    }
   ],
   "source": [
    "def swap_using_xor(a, b):\n",
    "    \"\"\"\n",
    "    Swap two numbers using XOR bitwise operator.\n",
    "    \"\"\"\n",
    "    a = a ^ b  # Step 1: a now holds the XOR of a and b\n",
    "    b = a ^ b  # Step 2: b becomes the original value of a\n",
    "    a = a ^ b  # Step 3: a becomes the original value of b\n",
    "    return a, b\n",
    "\n",
    "# Example usage\n",
    "x, y = 5, 10\n",
    "x, y = swap_using_xor(x, y)\n",
    "print(f\"Swapped using XOR: x = {x}, y = {y}\")\n"
   ]
  },
  {
   "cell_type": "code",
   "execution_count": 11,
   "metadata": {},
   "outputs": [
    {
     "name": "stdout",
     "output_type": "stream",
     "text": [
      "Swapped using addition and subtraction: x = 10, y = 5\n"
     ]
    }
   ],
   "source": [
    "def swap_using_add_sub(a, b):\n",
    "    \"\"\"\n",
    "    Swap two numbers using addition and subtraction.\n",
    "    \"\"\"\n",
    "    a = a + b  # Step 1: a now holds the sum of a and b\n",
    "    b = a - b  # Step 2: b becomes the original value of a\n",
    "    a = a - b  # Step 3: a becomes the original value of b\n",
    "    return a, b\n",
    "\n",
    "# Example usage\n",
    "x, y = 5, 10\n",
    "x, y = swap_using_add_sub(x, y)\n",
    "print(f\"Swapped using addition and subtraction: x = {x}, y = {y}\")\n"
   ]
  },
  {
   "cell_type": "markdown",
   "metadata": {},
   "source": [
    "Remove duplicate from array"
   ]
  },
  {
   "cell_type": "code",
   "execution_count": 16,
   "metadata": {},
   "outputs": [
    {
     "name": "stdout",
     "output_type": "stream",
     "text": [
      "Array with duplicates removed: [1, 2, 3, 4, 5]\n"
     ]
    }
   ],
   "source": [
    "def remove_duplicates(arr):\n",
    "    \"\"\"\n",
    "    Remove duplicates from an array without using built-in functions.\n",
    "    \"\"\"\n",
    "    # Initialize an empty list to store unique elements\n",
    "    unique_list = []\n",
    "    \n",
    "    # Iterate over each element in the original array\n",
    "    for i in range(len(arr)):\n",
    "        # Assume the current element is unique\n",
    "        is_duplicate = False\n",
    "        \n",
    "        # Check if the current element is already in the unique_list\n",
    "        for j in range(len(unique_list)):\n",
    "            if arr[i] == unique_list[j]:\n",
    "                is_duplicate = True\n",
    "                break\n",
    "        \n",
    "        # If not a duplicate, add it to unique_list\n",
    "        if not is_duplicate:\n",
    "            unique_list.append(arr[i])\n",
    "    \n",
    "    return unique_list\n",
    "\n",
    "# Example usage\n",
    "array = [1, 2, 2, 3, 4, 4, 5]\n",
    "unique_array = remove_duplicates(array)\n",
    "print(f\"Array with duplicates removed: {unique_array}\")\n"
   ]
  },
  {
   "cell_type": "code",
   "execution_count": 12,
   "metadata": {},
   "outputs": [
    {
     "name": "stdout",
     "output_type": "stream",
     "text": [
      "Array with duplicates removed (using set): [1, 2, 3, 4, 5]\n"
     ]
    }
   ],
   "source": [
    "def remove_duplicates_using_set(arr):\n",
    "    \"\"\"\n",
    "    Remove duplicates from an array using a set.\n",
    "    \"\"\"\n",
    "    return list(set(arr))\n",
    "\n",
    "# Example usage\n",
    "array = [1, 2, 2, 3, 4, 4, 5]\n",
    "unique_array = remove_duplicates_using_set(array)\n",
    "print(f\"Array with duplicates removed (using set): {unique_array}\")\n"
   ]
  },
  {
   "cell_type": "code",
   "execution_count": 13,
   "metadata": {},
   "outputs": [
    {
     "name": "stdout",
     "output_type": "stream",
     "text": [
      "Array with duplicates removed (using dictionary): [1, 2, 3, 4, 5]\n"
     ]
    }
   ],
   "source": [
    "def remove_duplicates_using_dict(arr):\n",
    "    \"\"\"\n",
    "    Remove duplicates from an array using a dictionary.\n",
    "    \"\"\"\n",
    "    return list(dict.fromkeys(arr))\n",
    "\n",
    "# Example usage\n",
    "array = [1, 2, 2, 3, 4, 4, 5]\n",
    "unique_array = remove_duplicates_using_dict(array)\n",
    "print(f\"Array with duplicates removed (using dictionary): {unique_array}\")\n"
   ]
  },
  {
   "cell_type": "code",
   "execution_count": 14,
   "metadata": {},
   "outputs": [
    {
     "name": "stdout",
     "output_type": "stream",
     "text": [
      "Array with duplicates removed (using loop): [1, 2, 3, 4, 5]\n"
     ]
    }
   ],
   "source": [
    "def remove_duplicates_using_loop(arr):\n",
    "    \"\"\"\n",
    "    Remove duplicates from an array using a loop.\n",
    "    \"\"\"\n",
    "    unique_list = []\n",
    "    for item in arr:\n",
    "        if item not in unique_list:\n",
    "            unique_list.append(item)\n",
    "    return unique_list\n",
    "\n",
    "# Example usage\n",
    "array = [1, 2, 2, 3, 4, 4, 5]\n",
    "unique_array = remove_duplicates_using_loop(array)\n",
    "print(f\"Array with duplicates removed (using loop): {unique_array}\")\n"
   ]
  },
  {
   "cell_type": "code",
   "execution_count": 15,
   "metadata": {},
   "outputs": [
    {
     "name": "stdout",
     "output_type": "stream",
     "text": [
      "Array with duplicates removed (using list comprehension): [1, 2, 3, 4, 5]\n"
     ]
    }
   ],
   "source": [
    "def remove_duplicates_using_list_comprehension(arr):\n",
    "    \"\"\"\n",
    "    Remove duplicates from an array using list comprehension and set.\n",
    "    \"\"\"\n",
    "    seen = list()\n",
    "    return [x for x in arr if not (x in seen or seen.append(x))]\n",
    "\n",
    "# Example usage\n",
    "array = [1, 2, 2, 3, 4, 4, 5]\n",
    "unique_array = remove_duplicates_using_list_comprehension(array)\n",
    "print(f\"Array with duplicates removed (using list comprehension): {unique_array}\")\n"
   ]
  },
  {
   "cell_type": "markdown",
   "metadata": {},
   "source": [
    "Find the words of given string"
   ]
  },
  {
   "cell_type": "code",
   "execution_count": 17,
   "metadata": {},
   "outputs": [
    {
     "name": "stdout",
     "output_type": "stream",
     "text": [
      "Words found without built-in functions: ['Hello', 'world', 'This', 'is', 'a', 'test', 'string']\n"
     ]
    }
   ],
   "source": [
    "def find_words_without_builtin(s):\n",
    "    \"\"\"\n",
    "    Find words in a string without using built-in functions.\n",
    "    \"\"\"\n",
    "    words = []\n",
    "    current_word = ''\n",
    "    \n",
    "    # Iterate through each character in the string\n",
    "    for char in s:\n",
    "        if char.isalnum() or char in \"'-\":  # Check if character is part of a word\n",
    "            current_word += char\n",
    "        else:\n",
    "            if current_word:  # If we have accumulated a word\n",
    "                words.append(current_word)\n",
    "                current_word = ''  # Reset current_word for the next word\n",
    "    \n",
    "    # Append the last word if there is any\n",
    "    if current_word:\n",
    "        words.append(current_word)\n",
    "    \n",
    "    return words\n",
    "\n",
    "# Example usage\n",
    "string = \"Hello, world! This is a test string.\"\n",
    "words = find_words_without_builtin(string)\n",
    "print(f\"Words found without built-in functions: {words}\")\n"
   ]
  },
  {
   "cell_type": "markdown",
   "metadata": {},
   "source": [
    "string s=\"how are you\" output=\" howareyou\""
   ]
  },
  {
   "cell_type": "code",
   "execution_count": 19,
   "metadata": {},
   "outputs": [
    {
     "name": "stdout",
     "output_type": "stream",
     "text": [
      "Output without built-in functions: 'howareyou'\n"
     ]
    }
   ],
   "source": [
    "def remove_spaces_without_builtin(s):\n",
    "    \"\"\"\n",
    "    Remove all spaces from a string without using built-in functions.\n",
    "    \"\"\"\n",
    "    output = ''\n",
    "    \n",
    "    # Iterate through each character in the string\n",
    "    for char in s:\n",
    "        if char != ' ':  # Check if the character is not a space\n",
    "            output += char  # Append non-space characters to output\n",
    "    \n",
    "    return output\n",
    "\n",
    "# Example usage\n",
    "s = \"how are you\"\n",
    "output = remove_spaces_without_builtin(s)\n",
    "print(f\"Output without built-in functions: '{output}'\")\n"
   ]
  },
  {
   "cell_type": "code",
   "execution_count": 20,
   "metadata": {},
   "outputs": [
    {
     "name": "stdout",
     "output_type": "stream",
     "text": [
      "Output with built-in functions: 'howareyou'\n"
     ]
    }
   ],
   "source": [
    "def remove_spaces_with_builtin(s):\n",
    "    \"\"\"\n",
    "    Remove all spaces from a string using built-in functions.\n",
    "    \"\"\"\n",
    "    # Use the built-in replace() method to remove all spaces\n",
    "    output = s.replace(' ', '')\n",
    "    return output\n",
    "\n",
    "# Example usage\n",
    "s = \"how are you\"\n",
    "output = remove_spaces_with_builtin(s)\n",
    "print(f\"Output with built-in functions: '{output}'\")\n"
   ]
  },
  {
   "cell_type": "markdown",
   "metadata": {},
   "source": [
    "abacdebagagabahafa how many times a comes after b"
   ]
  },
  {
   "cell_type": "code",
   "execution_count": 21,
   "metadata": {},
   "outputs": [
    {
     "name": "stdout",
     "output_type": "stream",
     "text": [
      "Number of times 'a' comes after 'b' without built-in functions: 7\n"
     ]
    }
   ],
   "source": [
    "def count_a_after_b_without_builtin(s):\n",
    "    \"\"\"\n",
    "    Count how many times 'a' comes after 'b' in the string without using built-in functions.\n",
    "    \"\"\"\n",
    "    count = 0\n",
    "    b_found = False\n",
    "    \n",
    "    # Iterate through each character in the string\n",
    "    for char in s:\n",
    "        if char == 'b':\n",
    "            b_found = True  # Mark that 'b' has been found\n",
    "        elif char == 'a' and b_found:\n",
    "            count += 1  # Increment count if 'a' is found after 'b'\n",
    "    \n",
    "    return count\n",
    "\n",
    "# Example usage\n",
    "s = \"abacdebagagabahafa\"\n",
    "count = count_a_after_b_without_builtin(s)\n",
    "print(f\"Number of times 'a' comes after 'b' without built-in functions: {count}\")\n"
   ]
  },
  {
   "cell_type": "code",
   "execution_count": 22,
   "metadata": {},
   "outputs": [
    {
     "name": "stdout",
     "output_type": "stream",
     "text": [
      "Number of times 'a' comes after 'b' with built-in functions: 16\n"
     ]
    }
   ],
   "source": [
    "def count_a_after_b_with_builtin(s):\n",
    "    \"\"\"\n",
    "    Count how many times 'a' comes after 'b' in the string using built-in functions.\n",
    "    \"\"\"\n",
    "    count = 0\n",
    "    index = 0\n",
    "    \n",
    "    while index < len(s):\n",
    "        # Find the next occurrence of 'b'\n",
    "        index = s.find('b', index)\n",
    "        if index == -1:  # No more 'b' found\n",
    "            break\n",
    "        \n",
    "        # Count 'a's after the found 'b'\n",
    "        count += s[index + 1:].count('a')\n",
    "        \n",
    "        # Move past the current 'b'\n",
    "        index += 1\n",
    "    \n",
    "    return count\n",
    "\n",
    "# Example usage\n",
    "s = \"abacdebagagabahafa\"\n",
    "count = count_a_after_b_with_builtin(s)\n",
    "print(f\"Number of times 'a' comes after 'b' with built-in functions: {count}\")\n"
   ]
  },
  {
   "cell_type": "markdown",
   "metadata": {},
   "source": [
    "Reverse of a string without using String inbuilt function"
   ]
  },
  {
   "cell_type": "code",
   "execution_count": 23,
   "metadata": {},
   "outputs": [
    {
     "name": "stdout",
     "output_type": "stream",
     "text": [
      "Reversed string without built-in functions: 'olleh'\n"
     ]
    }
   ],
   "source": [
    "def reverse_string_without_builtin(s):\n",
    "    \"\"\"\n",
    "    Reverse a string without using built-in functions.\n",
    "    \"\"\"\n",
    "    reversed_string = ''\n",
    "    length = 0\n",
    "    \n",
    "    # Calculate the length of the string\n",
    "    for char in s:\n",
    "        length += 1\n",
    "    \n",
    "    # Append characters from the end of the string to the beginning\n",
    "    for i in range(length - 1, -1, -1):\n",
    "        reversed_string += s[i]\n",
    "    \n",
    "    return reversed_string\n",
    "\n",
    "# Example usage\n",
    "s = \"hello\"\n",
    "reversed_s = reverse_string_without_builtin(s)\n",
    "print(f\"Reversed string without built-in functions: '{reversed_s}'\")\n"
   ]
  },
  {
   "cell_type": "markdown",
   "metadata": {},
   "source": [
    "write a program to sort an array and remove duplicate elements"
   ]
  },
  {
   "cell_type": "code",
   "execution_count": 25,
   "metadata": {},
   "outputs": [
    {
     "name": "stdout",
     "output_type": "stream",
     "text": [
      "Sorted array with duplicates removed (without built-in functions): [1, 2, 3, 4, 5]\n"
     ]
    }
   ],
   "source": [
    "def sort_and_remove_duplicates_without_builtin(arr):\n",
    "    \"\"\"\n",
    "    Sort an array and remove duplicate elements without using built-in functions.\n",
    "    \"\"\"\n",
    "    # Helper function to sort the array using Bubble Sort\n",
    "    def bubble_sort(arr):\n",
    "        n = len(arr)\n",
    "        for i in range(n):\n",
    "            for j in range(0, n-i-1):\n",
    "                if arr[j] > arr[j+1]:\n",
    "                    arr[j], arr[j+1] = arr[j+1], arr[j]\n",
    "    \n",
    "    # Remove duplicates manually\n",
    "    def remove_duplicates(arr):\n",
    "        unique_list = []\n",
    "        for item in arr:\n",
    "            if not unique_list or unique_list[-1] != item:\n",
    "                unique_list.append(item)\n",
    "        return unique_list\n",
    "    \n",
    "    # Sort the array\n",
    "    bubble_sort(arr)\n",
    "    \n",
    "    # Remove duplicates from the sorted array\n",
    "    return remove_duplicates(arr)\n",
    "\n",
    "# Example usage\n",
    "array = [4, 2, 2, 3, 1, 4, 5, 5]\n",
    "sorted_unique_array = sort_and_remove_duplicates_without_builtin(array)\n",
    "print(f\"Sorted array with duplicates removed (without built-in functions): {sorted_unique_array}\")\n"
   ]
  },
  {
   "cell_type": "code",
   "execution_count": 24,
   "metadata": {},
   "outputs": [
    {
     "name": "stdout",
     "output_type": "stream",
     "text": [
      "Sorted array with duplicates removed (using built-in functions): [1, 2, 3, 4, 5]\n"
     ]
    }
   ],
   "source": [
    "def sort_and_remove_duplicates(arr):\n",
    "    \"\"\"\n",
    "    Sort an array and remove duplicate elements using built-in functions.\n",
    "    \"\"\"\n",
    "    # Remove duplicates by converting the list to a set and then back to a list\n",
    "    unique_elements = list(set(arr))\n",
    "    \n",
    "    # Sort the list of unique elements\n",
    "    unique_elements.sort()\n",
    "    \n",
    "    return unique_elements\n",
    "\n",
    "# Example usage\n",
    "array = [4, 2, 2, 3, 1, 4, 5, 5]\n",
    "sorted_unique_array = sort_and_remove_duplicates(array)\n",
    "print(f\"Sorted array with duplicates removed (using built-in functions): {sorted_unique_array}\")\n"
   ]
  },
  {
   "cell_type": "markdown",
   "metadata": {},
   "source": [
    "Pascals Triangle, SpiralMatrix"
   ]
  },
  {
   "cell_type": "code",
   "execution_count": 26,
   "metadata": {},
   "outputs": [
    {
     "name": "stdout",
     "output_type": "stream",
     "text": [
      "[1]\n",
      "[1, 1]\n",
      "[1, 2, 1]\n",
      "[1, 3, 3, 1]\n",
      "[1, 4, 6, 4, 1]\n"
     ]
    }
   ],
   "source": [
    "def generate_pascals_triangle(n):\n",
    "    \"\"\"\n",
    "    Generate Pascal's Triangle with n rows.\n",
    "    \"\"\"\n",
    "    triangle = []\n",
    "\n",
    "    for i in range(n):\n",
    "        # Initialize the current row with 1s\n",
    "        row = [1] * (i + 1)\n",
    "        \n",
    "        # Compute the values for the current row\n",
    "        for j in range(1, i):\n",
    "            row[j] = triangle[i - 1][j - 1] + triangle[i - 1][j]\n",
    "        \n",
    "        # Append the current row to the triangle\n",
    "        triangle.append(row)\n",
    "    \n",
    "    return triangle\n",
    "\n",
    "# Example usage\n",
    "n = 5\n",
    "triangle = generate_pascals_triangle(n)\n",
    "for row in triangle:\n",
    "    print(row)\n"
   ]
  },
  {
   "cell_type": "code",
   "execution_count": 27,
   "metadata": {},
   "outputs": [
    {
     "name": "stdout",
     "output_type": "stream",
     "text": [
      "[1, 2, 3, 4]\n",
      "[12, 13, 14, 5]\n",
      "[11, 16, 15, 6]\n",
      "[10, 9, 8, 7]\n"
     ]
    }
   ],
   "source": [
    "def generate_spiral_matrix(n):\n",
    "    \"\"\"\n",
    "    Generate an n x n spiral matrix.\n",
    "    \"\"\"\n",
    "    matrix = [[0] * n for _ in range(n)]  # Create an n x n matrix filled with 0s\n",
    "    num = 1  # Start with 1\n",
    "    top, bottom, left, right = 0, n - 1, 0, n - 1  # Define the boundaries\n",
    "\n",
    "    while top <= bottom and left <= right:\n",
    "        # Traverse from left to right along the top boundary\n",
    "        for i in range(left, right + 1):\n",
    "            matrix[top][i] = num\n",
    "            num += 1\n",
    "        top += 1\n",
    "        \n",
    "        # Traverse from top to bottom along the right boundary\n",
    "        for i in range(top, bottom + 1):\n",
    "            matrix[i][right] = num\n",
    "            num += 1\n",
    "        right -= 1\n",
    "        \n",
    "        # Traverse from right to left along the bottom boundary\n",
    "        for i in range(right, left - 1, -1):\n",
    "            matrix[bottom][i] = num\n",
    "            num += 1\n",
    "        bottom -= 1\n",
    "        \n",
    "        # Traverse from bottom to top along the left boundary\n",
    "        for i in range(bottom, top - 1, -1):\n",
    "            matrix[i][left] = num\n",
    "            num += 1\n",
    "        left += 1\n",
    "\n",
    "    return matrix\n",
    "\n",
    "# Example usage\n",
    "n = 4\n",
    "spiral_matrix = generate_spiral_matrix(n)\n",
    "for row in spiral_matrix:\n",
    "    print(row)\n"
   ]
  },
  {
   "cell_type": "code",
   "execution_count": null,
   "metadata": {},
   "outputs": [],
   "source": []
  }
 ],
 "metadata": {
  "kernelspec": {
   "display_name": "Python 3",
   "language": "python",
   "name": "python3"
  },
  "language_info": {
   "codemirror_mode": {
    "name": "ipython",
    "version": 3
   },
   "file_extension": ".py",
   "mimetype": "text/x-python",
   "name": "python",
   "nbconvert_exporter": "python",
   "pygments_lexer": "ipython3",
   "version": "3.11.2"
  }
 },
 "nbformat": 4,
 "nbformat_minor": 2
}
