{
 "cells": [
  {
   "cell_type": "code",
   "execution_count": 8,
   "metadata": {},
   "outputs": [],
   "source": [
    "class Node:\n",
    "    def __init__(self,data):\n",
    "        self.data = data\n",
    "        self.left = None\n",
    "        self.right = None\n",
    "\n",
    "            "
   ]
  },
  {
   "cell_type": "code",
   "execution_count": 9,
   "metadata": {},
   "outputs": [],
   "source": [
    "root = Node(10)"
   ]
  },
  {
   "cell_type": "code",
   "execution_count": 10,
   "metadata": {},
   "outputs": [],
   "source": [
    "root.left = Node(11)\n",
    "root.right = Node(12)"
   ]
  },
  {
   "cell_type": "code",
   "execution_count": 11,
   "metadata": {},
   "outputs": [],
   "source": [
    "tempL = root.left\n",
    "tempR = root.right\n",
    "\n",
    "tempL.left = Node(45)\n",
    "tempL.right = Node(34)\n",
    "\n",
    "tempR.left = Node(1)\n",
    "tempR.right = Node(3)\n",
    "\n"
   ]
  },
  {
   "cell_type": "code",
   "execution_count": 52,
   "metadata": {},
   "outputs": [],
   "source": [
    "def traverse(node):\n",
    "\n",
    "    if node is None:\n",
    "        return -1,-1\n",
    "    max = -1\n",
    "    min = 9999\n",
    "    lst = []\n",
    "    que=[node]\n",
    "    while len(que) > 0:\n",
    "\n",
    "        q = que.pop(0)\n",
    "        lst.append(q.data)\n",
    "        if max < q.data:\n",
    "            max = q.data\n",
    "        if min > q.data:\n",
    "            min = q.data\n",
    "        if q.left is not None:\n",
    "            que.append(q.left)\n",
    "        if q.right is not None:\n",
    "            que.append(q.right)\n",
    "    return min,max,lst\n",
    "\n",
    "        \n"
   ]
  },
  {
   "cell_type": "code",
   "execution_count": 53,
   "metadata": {},
   "outputs": [
    {
     "data": {
      "text/plain": [
       "(1, 45, [10, 11, 12, 45, 34, 1, 3])"
      ]
     },
     "execution_count": 53,
     "metadata": {},
     "output_type": "execute_result"
    }
   ],
   "source": [
    "traverse(root)"
   ]
  },
  {
   "cell_type": "code",
   "execution_count": 54,
   "metadata": {},
   "outputs": [],
   "source": [
    "def traverse1(node):\n",
    "\n",
    "    if node is None:\n",
    "        return -1,-1\n",
    "    max = -1\n",
    "    min = 9999\n",
    "    lst =[]\n",
    "    stack=[node]\n",
    "    while len(stack) > 0:\n",
    "        q = stack.pop()\n",
    "        lst.append(q.data)\n",
    "        if max < q.data:\n",
    "            max = q.data\n",
    "        if min > q.data:\n",
    "            min = q.data\n",
    "        if q.right is not None:\n",
    "            stack.append(q.right)\n",
    "        if q.left is not None:\n",
    "            stack.append(q.left)\n",
    "        \n",
    "    return min,max,lst"
   ]
  },
  {
   "cell_type": "code",
   "execution_count": 55,
   "metadata": {},
   "outputs": [
    {
     "data": {
      "text/plain": [
       "(1, 45, [10, 11, 45, 34, 12, 1, 3])"
      ]
     },
     "execution_count": 55,
     "metadata": {},
     "output_type": "execute_result"
    }
   ],
   "source": [
    "traverse1(root)"
   ]
  },
  {
   "cell_type": "code",
   "execution_count": null,
   "metadata": {},
   "outputs": [],
   "source": [
    "class GraphNode:\n",
    "    def __init__(self,data,out):\n",
    "        self.data = data\n",
    "        self.outEdges = [None]*out\n"
   ]
  },
  {
   "cell_type": "code",
   "execution_count": null,
   "metadata": {},
   "outputs": [],
   "source": [
    "node1 = GraphNode(1, 2)\n",
    "node2 = GraphNode(2, 3)\n",
    "node3 = GraphNode(3, 2)\n",
    "node4 = GraphNode(4, 1)\n",
    "node5 = GraphNode(5, 2)\n",
    "node6 = GraphNode(6, 2)\n",
    "\n",
    "node1.outEdges = [node2, node3]\n",
    "node2.outEdges = [node1, node4, node5]\n",
    "node3.outEdges = [node1, node6]\n",
    "node4.outEdges = [node2]\n",
    "node5.outEdges = [node2, node6]\n",
    "node6.outEdges = [node3, node5]"
   ]
  },
  {
   "cell_type": "code",
   "execution_count": null,
   "metadata": {},
   "outputs": [
    {
     "name": "stdout",
     "output_type": "stream",
     "text": [
      "1 -> 2 3 \n",
      "2 -> 1 4 5 \n",
      "3 -> 1 6 \n",
      "4 -> 2 \n",
      "5 -> 2 6 \n",
      "6 -> 3 5 \n"
     ]
    },
    {
     "data": {
      "text/plain": [
       "[1, 2, 3, 4, 5, 6]"
      ]
     },
     "execution_count": 21,
     "metadata": {},
     "output_type": "execute_result"
    }
   ],
   "source": [
    "def traverseGraph(node):\n",
    "    if node is None:\n",
    "        return -1\n",
    "    \n",
    "    lst = []\n",
    "    que = [node]\n",
    "\n",
    "    while len(que) > 0:\n",
    "        q = que.pop(0)\n",
    "\n",
    "        lst.append(q.data)\n",
    "        print(q.data,end=' -> ')\n",
    "        for i in range(len(q.outEdges)):\n",
    "            print(q.outEdges[i].data, end=' ')\n",
    "            if q.outEdges[i] is not None and q.outEdges[i].data not in lst and q.outEdges[i] not in que:\n",
    "                que.append(q.outEdges[i])\n",
    "        print()\n",
    "    return lst\n",
    "\n",
    "traverseGraph(node1)"
   ]
  },
  {
   "cell_type": "code",
   "execution_count": null,
   "metadata": {},
   "outputs": [],
   "source": [
    "d = { 1 : [2,3],\n",
    "      2 : [1,4,5],\n",
    "      3 : [1,6],\n",
    "      4 : [2],\n",
    "      5 : [2,6],\n",
    "      6 : [3,5]\n",
    "     }\n"
   ]
  },
  {
   "cell_type": "code",
   "execution_count": 8,
   "metadata": {},
   "outputs": [
    {
     "name": "stdout",
     "output_type": "stream",
     "text": [
      "no of shifts :  1\n"
     ]
    }
   ],
   "source": [
    "str1 = 'ritesh'\n",
    "str2 = 'hrites'\n",
    "\n",
    "i = 0\n",
    "flag = False\n",
    "if str1 == str2:\n",
    "    flag = True\n",
    "elif len(str1) == len(str2):\n",
    "    while i < len(str2):\n",
    "        s = str2[i::]+str2[0:i:]\n",
    "        if s == str1:\n",
    "            flag = True\n",
    "            break\n",
    "        i+=1\n",
    "\n",
    "if flag:\n",
    "    print('no of shifts : ',i)"
   ]
  },
  {
   "cell_type": "code",
   "execution_count": 25,
   "metadata": {},
   "outputs": [
    {
     "data": {
      "text/plain": [
       "[-1, -2, 4]"
      ]
     },
     "execution_count": 25,
     "metadata": {},
     "output_type": "execute_result"
    }
   ],
   "source": [
    "def closest(lst,n):\n",
    "    m = 9999\n",
    "    l = []\n",
    "    for i in range(len(lst)):\n",
    "        for j in range(len(lst)):\n",
    "            if i == j :\n",
    "                continue\n",
    "            for k in range(len(lst)):\n",
    "                if i == k or j == k :\n",
    "                    continue\n",
    "                s = abs(sum([lst[i], lst[j], lst[k]]))\n",
    "                if s < abs(n-m):\n",
    "                    l = [lst[i], lst[j], lst[k]]\n",
    "                    m = s\n",
    "    return l\n",
    "    \n",
    "\n",
    "closest([-1,-2,0,1,4,2,0,4,1,4],1)"
   ]
  },
  {
   "cell_type": "code",
   "execution_count": 51,
   "metadata": {},
   "outputs": [
    {
     "data": {
      "text/plain": [
       "'BDEC'"
      ]
     },
     "execution_count": 51,
     "metadata": {},
     "output_type": "execute_result"
    }
   ],
   "source": [
    "def checkSub(s):\n",
    "    m = 0\n",
    "    ss =''\n",
    "    i =0\n",
    "    while i < len(s)-1:\n",
    "        st=s[i]\n",
    "        for j in range(i+1,len(s)):\n",
    "            if s[j] in st:\n",
    "                i = j\n",
    "                break\n",
    "            st+=s[j]\n",
    "            i+=1\n",
    "        if len(st) > m:\n",
    "            m = len(st)\n",
    "            ss = st \n",
    "    return ss\n",
    "checkSub('ABBDECBBE')"
   ]
  },
  {
   "cell_type": "code",
   "execution_count": 9,
   "metadata": {},
   "outputs": [
    {
     "name": "stdout",
     "output_type": "stream",
     "text": [
      "Unsorted array: [3, 6, 8, 65, 89, 5, 7, 98, 2, 345, 66, 1, 3, 2, 1, 3, 67, 10, 1, 2, 1]\n",
      "Sorted array: [1, 1, 1, 1, 2, 2, 2, 3, 3, 3, 5, 6, 7, 8, 10, 65, 66, 67, 89, 98, 345]\n"
     ]
    }
   ],
   "source": [
    "def quick_sort(arr):\n",
    "    if len(arr) <= 1:  # Base case: if the array is empty or has one element, it's already sorted\n",
    "        return arr\n",
    "    else:\n",
    "        pivot = arr[len(arr) // 2]  # Choose the middle element as the pivot\n",
    "        left = [x for x in arr if x < pivot]  # Elements less than the pivot\n",
    "        middle = [x for x in arr if x == pivot]  # Elements equal to the pivot\n",
    "        right = [x for x in arr if x > pivot]  # Elements greater than the pivot\n",
    "        return quick_sort(left) + middle + quick_sort(right)  # Recursively sort left and right parts\n",
    "\n",
    "# Example usage\n",
    "arr = [3, 6, 8, 65, 89, 5, 7, 98, 2, 345, 66, 1, 3, 2, 1, 3, 67, 10, 1, 2, 1]\n",
    "print(\"Unsorted array:\", arr)\n",
    "sorted_arr = quick_sort(arr)\n",
    "print(\"Sorted array:\", sorted_arr)\n"
   ]
  },
  {
   "cell_type": "code",
   "execution_count": 4,
   "metadata": {},
   "outputs": [
    {
     "name": "stdout",
     "output_type": "stream",
     "text": [
      "Unsorted array: [15, 23, 1, 6, 22, 9, 6, 33, 4, 655, 3]\n",
      "Sorted array: [1, 3, 4, 6, 6, 9, 15, 22, 23, 33, 655]\n"
     ]
    }
   ],
   "source": [
    "def quick_sort(arr, low, high):\n",
    "    if low < high:\n",
    "        # Partition the array and get the pivot index\n",
    "        pi = partition(arr, low, high)\n",
    "        \n",
    "        # Recursively sort the elements before and after partition\n",
    "        quick_sort(arr, low, pi - 1)\n",
    "        quick_sort(arr, pi + 1, high)\n",
    "\n",
    "def partition(arr, low, high):\n",
    "    pivot = arr[low]  # Choosing the first element as the pivot\n",
    "    left = low + 1\n",
    "    right = high\n",
    "\n",
    "    done = False\n",
    "    while not done:\n",
    "        while left <= right and arr[left] <= pivot:\n",
    "            left = left + 1\n",
    "        while arr[right] >= pivot and right >= left:\n",
    "            right = right - 1\n",
    "        if right < left:\n",
    "            done = True\n",
    "        else:\n",
    "            arr[left], arr[right] = arr[right], arr[left]\n",
    "\n",
    "    arr[low], arr[right] = arr[right], arr[low]\n",
    "    return right\n",
    "\n",
    "# Example usage\n",
    "arr = [15,23,1,6,22,9,6,33,4,655,3]\n",
    "print(\"Unsorted array:\", arr)\n",
    "quick_sort(arr, 0, len(arr) - 1)\n",
    "print(\"Sorted array:\", arr)\n"
   ]
  },
  {
   "cell_type": "code",
   "execution_count": 3,
   "metadata": {},
   "outputs": [
    {
     "name": "stdout",
     "output_type": "stream",
     "text": [
      "Unsorted array: [3, 6, 8, 10, 1, 2, 1]\n",
      "Sorted array: [1, 1, 2, 3, 6, 8, 10]\n"
     ]
    }
   ],
   "source": [
    "def merge_sort(arr):\n",
    "    if len(arr) > 1:\n",
    "        mid = len(arr) // 2  # Finding the mid of the array\n",
    "        left_half = arr[:mid]  # Dividing the array elements into 2 halves\n",
    "        right_half = arr[mid:]\n",
    "\n",
    "        merge_sort(left_half)  # Sorting the first half\n",
    "        merge_sort(right_half)  # Sorting the second half\n",
    "\n",
    "        i = j = k = 0\n",
    "\n",
    "        # Copy x     data to temp arrays left_half[] and right_half[]\n",
    "        while i < len(left_half) and j < len(right_half):\n",
    "            if left_half[i] < right_half[j]:\n",
    "                arr[k] = left_half[i]\n",
    "                i += 1\n",
    "            else:\n",
    "                arr[k] = right_half[j]\n",
    "                j += 1\n",
    "            k += 1\n",
    "\n",
    "        # Checking if any element was left\n",
    "        while i < len(left_half):\n",
    "            arr[k] = left_half[i]\n",
    "            i += 1\n",
    "            k += 1\n",
    "\n",
    "        while j < len(right_half):\n",
    "            arr[k] = right_half[j]\n",
    "            j += 1\n",
    "            k += 1\n",
    "\n",
    "# Example usage\n",
    "arr = [3, 6, 8, 10, 1, 2, 1]\n",
    "print(\"Unsorted array:\", arr)\n",
    "merge_sort(arr)\n",
    "print(\"Sorted array:\", arr)\n"
   ]
  },
  {
   "cell_type": "code",
   "execution_count": 3,
   "metadata": {},
   "outputs": [
    {
     "name": "stdout",
     "output_type": "stream",
     "text": [
      "Element 6 found at index 3\n"
     ]
    }
   ],
   "source": [
    "def binary_search(arr, target):\n",
    "    left, right = 0, len(arr) - 1\n",
    "    \n",
    "    while left <= right:\n",
    "        mid = (left + right) // 2\n",
    "        if arr[mid] == target:\n",
    "            return mid\n",
    "        elif arr[mid] < target:\n",
    "            left = mid + 1\n",
    "        else:\n",
    "            right = mid - 1\n",
    "            \n",
    "    return -1  # Target not found\n",
    "\n",
    "# Example usage\n",
    "arr = [1, 2, 3, 6, 8, 10]\n",
    "target = 6\n",
    "result = binary_search(arr, target)\n",
    "\n",
    "if result != -1:\n",
    "    print(f\"Element {target} found at index {result}\")\n",
    "else:\n",
    "    print(f\"Element {target} not found in the array\")\n"
   ]
  },
  {
   "cell_type": "code",
   "execution_count": 8,
   "metadata": {},
   "outputs": [
    {
     "name": "stdout",
     "output_type": "stream",
     "text": [
      "Element 6 found at index 3\n"
     ]
    }
   ],
   "source": [
    "def binary_search_recursive(arr, target, left, right):\n",
    "    if left > right:\n",
    "        return -1  # Target not found\n",
    "    \n",
    "    mid = (left + right) // 2\n",
    "    \n",
    "    if arr[mid] == target:\n",
    "        return mid\n",
    "    elif arr[mid] < target:\n",
    "        return binary_search_recursive(arr, target, mid + 1, right)\n",
    "    else:\n",
    "        return binary_search_recursive(arr, target, left, mid - 1)\n",
    "\n",
    "# Wrapper function to make it easier to call\n",
    "def binary_search(arr, target):\n",
    "    return binary_search_recursive(arr, target, 0, len(arr) - 1)\n",
    "\n",
    "# Example usage\n",
    "arr = [1, 2, 3, 6, 8, 10]\n",
    "target = 6\n",
    "result = binary_search(arr, target)\n",
    "\n",
    "if result != -1:\n",
    "    print(f\"Element {target} found at index {result}\")\n",
    "else:\n",
    "    print(f\"Element {target} not found in the array\")\n"
   ]
  },
  {
   "cell_type": "code",
   "execution_count": 4,
   "metadata": {},
   "outputs": [
    {
     "name": "stdout",
     "output_type": "stream",
     "text": [
      "Height of the tree: 3\n",
      "Number of leaf nodes: 4\n"
     ]
    }
   ],
   "source": [
    "class TreeNode:\n",
    "    def __init__(self, value):\n",
    "        self.value = value\n",
    "        self.left = None\n",
    "        self.right = None\n",
    "\n",
    "\n",
    "def insert(root, value):\n",
    "    if root is None:\n",
    "        return TreeNode(value)\n",
    "    if value < root.value:\n",
    "        root.left = insert(root.left, value)\n",
    "    else:\n",
    "        root.right = insert(root.right, value)\n",
    "    return root\n",
    "\n",
    "def find_height(root):\n",
    "    if root is None:\n",
    "        return 0\n",
    "    left_height = find_height(root.left)\n",
    "    right_height = find_height(root.right)\n",
    "    return max(left_height, right_height) + 1\n",
    "\n",
    "\n",
    "def count_leaf_nodes(root):\n",
    "    if root is None:\n",
    "        return 0\n",
    "    if root.left is None and root.right is None:\n",
    "        return 1\n",
    "    return count_leaf_nodes(root.left) + count_leaf_nodes(root.right)\n",
    "\n",
    "\n",
    "# Create the binary tree\n",
    "root = None\n",
    "values = [10, 5, 15, 3, 7, 12, 18]\n",
    "\n",
    "for value in values:\n",
    "    root = insert(root, value)\n",
    "\n",
    "# Find the height of the tree\n",
    "height = find_height(root)\n",
    "print(f\"Height of the tree: {height}\")\n",
    "\n",
    "# Count the number of leaf nodes\n",
    "leaf_count = count_leaf_nodes(root)\n",
    "print(f\"Number of leaf nodes: {leaf_count}\")\n"
   ]
  },
  {
   "cell_type": "code",
   "execution_count": 5,
   "metadata": {},
   "outputs": [
    {
     "name": "stdout",
     "output_type": "stream",
     "text": [
      "Unsorted array: [12, 11, 13, 5, 6]\n",
      "Sorted array: [5, 6, 11, 12, 13]\n"
     ]
    }
   ],
   "source": [
    "def insertion_sort(arr):\n",
    "    for i in range(1, len(arr)):\n",
    "        key = arr[i]\n",
    "        j = i - 1\n",
    "        while j >= 0 and key < arr[j]:\n",
    "            arr[j + 1] = arr[j]\n",
    "            j -= 1\n",
    "        arr[j + 1] = key\n",
    "\n",
    "# Example usage\n",
    "arr = [12, 11, 13, 5, 6]\n",
    "print(\"Unsorted array:\", arr)\n",
    "insertion_sort(arr)\n",
    "print(\"Sorted array:\", arr)\n"
   ]
  },
  {
   "cell_type": "code",
   "execution_count": 6,
   "metadata": {},
   "outputs": [
    {
     "name": "stdout",
     "output_type": "stream",
     "text": [
      "Unsorted array: [64, 25, 12, 22, 11]\n",
      "Sorted array: [11, 12, 22, 25, 64]\n"
     ]
    }
   ],
   "source": [
    "def selection_sort(arr):\n",
    "    for i in range(len(arr)):\n",
    "        min_idx = i\n",
    "        for j in range(i + 1, len(arr)):\n",
    "            if arr[j] < arr[min_idx]:\n",
    "                min_idx = j\n",
    "        arr[i], arr[min_idx] = arr[min_idx], arr[i]\n",
    "\n",
    "# Example usage\n",
    "arr = [64, 25, 12, 22, 11]\n",
    "print(\"Unsorted array:\", arr)\n",
    "selection_sort(arr)\n",
    "print(\"Sorted array:\", arr)\n"
   ]
  },
  {
   "cell_type": "code",
   "execution_count": 7,
   "metadata": {},
   "outputs": [
    {
     "name": "stdout",
     "output_type": "stream",
     "text": [
      "Unsorted array: [5, 1, 4, 2, 8]\n",
      "Sorted array: [1, 2, 4, 5, 8]\n"
     ]
    }
   ],
   "source": [
    "def bubble_sort(arr):\n",
    "    n = len(arr)\n",
    "    for i in range(n):\n",
    "        for j in range(0, n-i-1):\n",
    "            if arr[j] > arr[j+1]:\n",
    "                arr[j], arr[j+1] = arr[j+1], arr[j]\n",
    "\n",
    "# Example usage\n",
    "arr = [5, 1, 4, 2, 8]\n",
    "print(\"Unsorted array:\", arr)\n",
    "bubble_sort(arr)\n",
    "print(\"Sorted array:\", arr)\n"
   ]
  },
  {
   "cell_type": "markdown",
   "metadata": {},
   "source": [
    "#Knapsack "
   ]
  },
  {
   "cell_type": "code",
   "execution_count": 10,
   "metadata": {},
   "outputs": [
    {
     "name": "stdout",
     "output_type": "stream",
     "text": [
      "Maximum value in knapsack (recursive): 50\n"
     ]
    }
   ],
   "source": [
    "def knapsack_recursive(weights, values, capacity, n):\n",
    "    # Base case: No items or capacity is 0\n",
    "    if n == 0 or capacity == 0:\n",
    "        return 0\n",
    "    \n",
    "    # If the weight of the nth item is more than the capacity, skip this item\n",
    "    if weights[n-1] > capacity:\n",
    "        return knapsack_recursive(weights, values, capacity, n-1)\n",
    "    \n",
    "    # Return the maximum of including or excluding the nth item\n",
    "    include = values[n-1] + knapsack_recursive(weights, values, capacity - weights[n-1], n-1)\n",
    "    exclude = knapsack_recursive(weights, values, capacity, n-1)\n",
    "    \n",
    "    return max(include, exclude)\n",
    "\n",
    "# Example usage\n",
    "weights = [1, 2, 3]\n",
    "values = [10, 20, 30]\n",
    "capacity = 5\n",
    "n = len(weights)\n",
    "\n",
    "print(\"Maximum value in knapsack (recursive):\", knapsack_recursive(weights, values, capacity, n))\n"
   ]
  },
  {
   "cell_type": "code",
   "execution_count": 11,
   "metadata": {},
   "outputs": [
    {
     "name": "stdout",
     "output_type": "stream",
     "text": [
      "Maximum value in knapsack (tabular): 50\n"
     ]
    }
   ],
   "source": [
    "def knapsack_tabular(weights, values, capacity):\n",
    "    n = len(weights)\n",
    "    dp = [[0 for _ in range(capacity + 1)] for _ in range(n + 1)]\n",
    "    \n",
    "    # Fill the DP table\n",
    "    for i in range(1, n + 1):\n",
    "        for w in range(1, capacity + 1):\n",
    "            if weights[i-1] <= w:\n",
    "                dp[i][w] = max(dp[i-1][w], values[i-1] + dp[i-1][w - weights[i-1]])\n",
    "            else:\n",
    "                dp[i][w] = dp[i-1][w]\n",
    "    \n",
    "    return dp[n][capacity]\n",
    "\n",
    "# Example usage\n",
    "weights = [1, 2, 3]\n",
    "values = [10, 20, 30]\n",
    "capacity = 5\n",
    "\n",
    "print(\"Maximum value in knapsack (tabular):\", knapsack_tabular(weights, values, capacity))\n"
   ]
  },
  {
   "cell_type": "markdown",
   "metadata": {},
   "source": [
    "Knapsack -> subset sum"
   ]
  },
  {
   "cell_type": "code",
   "execution_count": 1,
   "metadata": {},
   "outputs": [
    {
     "name": "stdout",
     "output_type": "stream",
     "text": [
      "True\n"
     ]
    }
   ],
   "source": [
    "def subset_sum_recursive(arr, target_sum, n):\n",
    "    # Base Cases\n",
    "    if target_sum == 0:\n",
    "        return True\n",
    "    if n == 0:\n",
    "        return False\n",
    "    \n",
    "    # If the last element is greater than the target sum, ignore it\n",
    "    if arr[n-1] > target_sum:\n",
    "        return subset_sum_recursive(arr, target_sum, n-1)\n",
    "    \n",
    "    # Check if target sum can be obtained by including or excluding the last element\n",
    "    return (subset_sum_recursive(arr, target_sum - arr[n-1], n-1) or \n",
    "            subset_sum_recursive(arr, target_sum, n-1))\n",
    "\n",
    "# Example usage\n",
    "arr = [3, 34, 4, 12, 5, 2]\n",
    "target_sum = 9\n",
    "print(subset_sum_recursive(arr, target_sum, len(arr)))  # Output: True\n"
   ]
  },
  {
   "cell_type": "code",
   "execution_count": 2,
   "metadata": {},
   "outputs": [
    {
     "name": "stdout",
     "output_type": "stream",
     "text": [
      "True\n"
     ]
    }
   ],
   "source": [
    "def subset_sum_tabular(arr, target_sum):\n",
    "    n = len(arr)\n",
    "    # Create a 2D array to store results of subproblems\n",
    "    dp = [[False for _ in range(target_sum + 1)] for _ in range(n + 1)]\n",
    "    \n",
    "    # There is always a subset with sum 0 (the empty subset)\n",
    "    for i in range(n + 1):\n",
    "        dp[i][0] = True\n",
    "    \n",
    "    # Fill the rest of the table\n",
    "    for i in range(1, n + 1):\n",
    "        for j in range(1, target_sum + 1):\n",
    "            if arr[i-1] > j:\n",
    "                dp[i][j] = dp[i-1][j]\n",
    "            else:\n",
    "                dp[i][j] = dp[i-1][j] or dp[i-1][j - arr[i-1]]\n",
    "    \n",
    "    return dp[n][target_sum]\n",
    "\n",
    "# Example usage\n",
    "arr = [3, 34, 4, 12, 5, 2]\n",
    "target_sum = 9\n",
    "print(subset_sum_tabular(arr, target_sum))  # Output: True\n"
   ]
  },
  {
   "cell_type": "markdown",
   "metadata": {},
   "source": [
    "Equal sum partition"
   ]
  },
  {
   "cell_type": "code",
   "execution_count": 3,
   "metadata": {},
   "outputs": [
    {
     "name": "stdout",
     "output_type": "stream",
     "text": [
      "Subset 1: []\n",
      "Subset 2: [5]\n"
     ]
    }
   ],
   "source": [
    "def find_partition(arr, n, subset_sum, subset1, subset2):\n",
    "    if subset_sum == 0:\n",
    "        return True, subset1, subset2\n",
    "    if n == 0:\n",
    "        return False, subset1, subset2\n",
    "    \n",
    "    # Exclude the current element from subset1\n",
    "    if find_partition(arr, n-1, subset_sum, subset1, subset2 + [arr[n-1]]):\n",
    "        return True, subset1, subset2 + [arr[n-1]]\n",
    "    \n",
    "    # Include the current element in subset1\n",
    "    subset1.append(arr[n-1])\n",
    "    if find_partition(arr, n-1, subset_sum - arr[n-1], subset1, subset2):\n",
    "        return True, subset1, subset2\n",
    "    subset1.pop()\n",
    "    \n",
    "    return False, subset1, subset2\n",
    "\n",
    "def equal_sum_partition(arr):\n",
    "    total_sum = sum(arr)\n",
    "    if total_sum % 2 != 0:\n",
    "        return 0\n",
    "    \n",
    "    subset_sum = total_sum // 2\n",
    "    subset1, subset2 = [], []\n",
    "    result, part1, part2 = find_partition(arr, len(arr), subset_sum, [], [])\n",
    "    if result:\n",
    "        return part1, part2\n",
    "    return 0\n",
    "\n",
    "# Example usage\n",
    "arr = [1, 5, 11, 5]\n",
    "result = equal_sum_partition(arr)\n",
    "if result == 0:\n",
    "    print(result)\n",
    "else:\n",
    "    print(\"Subset 1:\", result[0])\n",
    "    print(\"Subset 2:\", result[1])\n"
   ]
  },
  {
   "cell_type": "code",
   "execution_count": 4,
   "metadata": {},
   "outputs": [
    {
     "name": "stdout",
     "output_type": "stream",
     "text": [
      "Subset 1: [11]\n",
      "Subset 2: [5, 5, 1]\n"
     ]
    }
   ],
   "source": [
    "def find_equal_partition(arr):\n",
    "    total_sum = sum(arr)\n",
    "    if total_sum % 2 != 0:\n",
    "        return 0\n",
    "    \n",
    "    subset_sum = total_sum // 2\n",
    "    n = len(arr)\n",
    "    \n",
    "    # Initialize DP table\n",
    "    dp = [[False] * (subset_sum + 1) for _ in range(n + 1)]\n",
    "    dp[0][0] = True\n",
    "    \n",
    "    for i in range(1, n + 1):\n",
    "        for j in range(subset_sum + 1):\n",
    "            if arr[i-1] > j:\n",
    "                dp[i][j] = dp[i-1][j]\n",
    "            else:\n",
    "                dp[i][j] = dp[i-1][j] or dp[i-1][j - arr[i-1]]\n",
    "    \n",
    "    if not dp[n][subset_sum]:\n",
    "        return 0\n",
    "    \n",
    "    # Find subsets\n",
    "    subset1, subset2 = [], []\n",
    "    i, j = n, subset_sum\n",
    "    while i > 0 and j >= 0:\n",
    "        if dp[i-1][j]:\n",
    "            subset2.append(arr[i-1])\n",
    "        else:\n",
    "            subset1.append(arr[i-1])\n",
    "            j -= arr[i-1]\n",
    "        i -= 1\n",
    "    \n",
    "    return subset1, subset2\n",
    "\n",
    "# Example usage\n",
    "arr = [1, 5, 11, 5]\n",
    "result = find_equal_partition(arr)\n",
    "if result == 0:\n",
    "    print(result)\n",
    "else:\n",
    "    print(\"Subset 1:\", result[0])\n",
    "    print(\"Subset 2:\", result[1])\n"
   ]
  },
  {
   "cell_type": "markdown",
   "metadata": {},
   "source": [
    "Minimun subset sum difference ( minimum partition)"
   ]
  },
  {
   "cell_type": "code",
   "execution_count": 6,
   "metadata": {},
   "outputs": [
    {
     "name": "stdout",
     "output_type": "stream",
     "text": [
      "Minimum Difference: 1\n",
      "Subset 1: [11]\n",
      "Subset 2: [1, 6, 5]\n"
     ]
    }
   ],
   "source": [
    "def min_subset_sum_difference(arr):\n",
    "    total_sum = sum(arr)\n",
    "    n = len(arr)\n",
    "    subset_sum = total_sum // 2\n",
    "    \n",
    "    memo = {}\n",
    "\n",
    "    def recurse(index, current_sum):\n",
    "        # Base Cases\n",
    "        if index == n:\n",
    "            return abs(total_sum - 2 * current_sum)\n",
    "        if (index, current_sum) in memo:\n",
    "            return memo[(index, current_sum)]\n",
    "        \n",
    "        # Include the current element in the subset\n",
    "        include_current = recurse(index + 1, current_sum + arr[index])\n",
    "        \n",
    "        # Exclude the current element from the subset\n",
    "        exclude_current = recurse(index + 1, current_sum)\n",
    "        \n",
    "        # Store and return the minimum of the two choices\n",
    "        memo[(index, current_sum)] = min(include_current, exclude_current)\n",
    "        return memo[(index, current_sum)]\n",
    "\n",
    "    min_diff = recurse(0, 0)\n",
    "    \n",
    "    # To reconstruct the subsets (optional)\n",
    "    subset1, subset2 = [], []\n",
    "    def find_subsets(index, current_sum):\n",
    "        if index == n:\n",
    "            return\n",
    "        if (index, current_sum) in memo:\n",
    "            if recurse(index + 1, current_sum + arr[index]) < recurse(index + 1, current_sum):\n",
    "                subset1.append(arr[index])\n",
    "                find_subsets(index + 1, current_sum + arr[index])\n",
    "            else:\n",
    "                subset2.append(arr[index])\n",
    "                find_subsets(index + 1, current_sum)\n",
    "    \n",
    "    find_subsets(0, 0)\n",
    "    subset2 = [x for x in arr if x not in subset1]\n",
    "\n",
    "    return min_diff, subset1, subset2\n",
    "\n",
    "# Example usage\n",
    "arr = [1, 6, 11, 5]\n",
    "min_diff, subset1, subset2 = min_subset_sum_difference(arr)\n",
    "print(\"Minimum Difference:\", min_diff)\n",
    "print(\"Subset 1:\", subset1)\n",
    "print(\"Subset 2:\", subset2)\n"
   ]
  },
  {
   "cell_type": "code",
   "execution_count": 7,
   "metadata": {},
   "outputs": [
    {
     "name": "stdout",
     "output_type": "stream",
     "text": [
      "Minimum Difference: 1\n",
      "Subset 1: [5, 6]\n",
      "Subset 2: [11, 1]\n"
     ]
    }
   ],
   "source": [
    "def min_subset_sum_difference(arr):\n",
    "    total_sum = sum(arr)\n",
    "    n = len(arr)\n",
    "    subset_sum = total_sum // 2\n",
    "    \n",
    "    # Initialize DP table\n",
    "    dp = [[False] * (subset_sum + 1) for _ in range(n + 1)]\n",
    "    dp[0][0] = True\n",
    "    \n",
    "    # Fill the DP table\n",
    "    for i in range(1, n + 1):\n",
    "        for j in range(subset_sum + 1):\n",
    "            if arr[i-1] <= j:\n",
    "                dp[i][j] = dp[i-1][j] or dp[i-1][j - arr[i-1]]\n",
    "            else:\n",
    "                dp[i][j] = dp[i-1][j]\n",
    "    \n",
    "    # Find the largest j such that dp[n][j] is True\n",
    "    for j in range(subset_sum, -1, -1):\n",
    "        if dp[n][j]:\n",
    "            subset1_sum = j\n",
    "            break\n",
    "    \n",
    "    subset2_sum = total_sum - subset1_sum\n",
    "    min_diff = abs(subset2_sum - subset1_sum)\n",
    "    \n",
    "    # Reconstruct the subsets\n",
    "    subset1, subset2 = [], []\n",
    "    w = subset1_sum\n",
    "    for i in range(n, 0, -1):\n",
    "        if w >= arr[i-1] and dp[i-1][w - arr[i-1]]:\n",
    "            subset1.append(arr[i-1])\n",
    "            w -= arr[i-1]\n",
    "        else:\n",
    "            subset2.append(arr[i-1])\n",
    "    \n",
    "    return min_diff, subset1, subset2\n",
    "\n",
    "# Example usage\n",
    "arr = [1, 6, 11, 5]\n",
    "min_diff, subset1, subset2 = min_subset_sum_difference(arr)\n",
    "print(\"Minimum Difference:\", min_diff)\n",
    "print(\"Subset 1:\", subset1)\n",
    "print(\"Subset 2:\", subset2)\n",
    "\n"
   ]
  },
  {
   "cell_type": "markdown",
   "metadata": {},
   "source": [
    "Target Sum"
   ]
  },
  {
   "cell_type": "code",
   "execution_count": 8,
   "metadata": {},
   "outputs": [
    {
     "name": "stdout",
     "output_type": "stream",
     "text": [
      "Can a subset with sum 6 be formed? True\n"
     ]
    }
   ],
   "source": [
    "def target_sum(arr, target):\n",
    "    n = len(arr)\n",
    "    \n",
    "    # Initialize DP table\n",
    "    dp = [[False] * (target + 1) for _ in range(n + 1)]\n",
    "    \n",
    "    # A sum of 0 can always be achieved with 0 elements\n",
    "    dp[0][0] = True\n",
    "    \n",
    "    # Fill the DP table\n",
    "    for i in range(1, n + 1):\n",
    "        for j in range(target + 1):\n",
    "            if arr[i-1] <= j:\n",
    "                dp[i][j] = dp[i-1][j] or dp[i-1][j - arr[i-1]]\n",
    "            else:\n",
    "                dp[i][j] = dp[i-1][j]\n",
    "    \n",
    "    # Result is in dp[n][target]\n",
    "    return dp[n][target]\n",
    "\n",
    "# Example usage\n",
    "arr = [1, 2, 3, 7]\n",
    "target = 6\n",
    "result = target_sum(arr, target)\n",
    "print(\"Can a subset with sum\", target, \"be formed?\", result)\n"
   ]
  },
  {
   "cell_type": "markdown",
   "metadata": {},
   "source": [
    "Count of subset sum"
   ]
  },
  {
   "cell_type": "code",
   "execution_count": 9,
   "metadata": {},
   "outputs": [
    {
     "name": "stdout",
     "output_type": "stream",
     "text": [
      "Count of subsets with sum 6 is 3\n"
     ]
    }
   ],
   "source": [
    "def count_subsets_recursive(arr, target):\n",
    "    memo = {}\n",
    "\n",
    "    def recurse(index, current_sum):\n",
    "        # Base Cases\n",
    "        if current_sum == 0:\n",
    "            return 1\n",
    "        if index == len(arr):\n",
    "            return 0\n",
    "        \n",
    "        if (index, current_sum) in memo:\n",
    "            return memo[(index, current_sum)]\n",
    "\n",
    "        # Include the current element in the subset\n",
    "        include_current = recurse(index + 1, current_sum - arr[index])\n",
    "        \n",
    "        # Exclude the current element from the subset\n",
    "        exclude_current = recurse(index + 1, current_sum)\n",
    "        \n",
    "        # Total subsets count\n",
    "        memo[(index, current_sum)] = include_current + exclude_current\n",
    "        return memo[(index, current_sum)]\n",
    "\n",
    "    return recurse(0, target)\n",
    "\n",
    "# Example usage\n",
    "arr = [1, 2, 3, 3]\n",
    "target = 6\n",
    "count = count_subsets_recursive(arr, target)\n",
    "print(\"Count of subsets with sum\", target, \"is\", count)\n"
   ]
  },
  {
   "cell_type": "code",
   "execution_count": 10,
   "metadata": {},
   "outputs": [
    {
     "name": "stdout",
     "output_type": "stream",
     "text": [
      "Count of subsets with sum 6 is 3\n"
     ]
    }
   ],
   "source": [
    "def count_subsets_dp(arr, target):\n",
    "    n = len(arr)\n",
    "    \n",
    "    # Initialize DP table\n",
    "    dp = [[0] * (target + 1) for _ in range(n + 1)]\n",
    "    \n",
    "    # There's always one way to make a sum of 0: use an empty subset\n",
    "    for i in range(n + 1):\n",
    "        dp[i][0] = 1\n",
    "    \n",
    "    # Fill the DP table\n",
    "    for i in range(1, n + 1):\n",
    "        for j in range(1, target + 1):\n",
    "            if arr[i-1] <= j:\n",
    "                dp[i][j] = dp[i-1][j] + dp[i-1][j - arr[i-1]]\n",
    "            else:\n",
    "                dp[i][j] = dp[i-1][j]\n",
    "    \n",
    "    # Result is in dp[n][target]\n",
    "    return dp[n][target]\n",
    "\n",
    "# Example usage\n",
    "arr = [1, 2, 3, 3]\n",
    "target = 6\n",
    "count = count_subsets_dp(arr, target)\n",
    "print(\"Count of subsets with sum\", target, \"is\", count)\n"
   ]
  },
  {
   "cell_type": "markdown",
   "metadata": {},
   "source": [
    "No of subset and given difference"
   ]
  },
  {
   "cell_type": "code",
   "execution_count": 11,
   "metadata": {},
   "outputs": [
    {
     "name": "stdout",
     "output_type": "stream",
     "text": [
      "Count of subsets with difference 2 is 0\n"
     ]
    }
   ],
   "source": [
    "def count_subsets_with_sum(arr, target):\n",
    "    memo = {}\n",
    "\n",
    "    def recurse(index, current_sum):\n",
    "        # Base cases\n",
    "        if current_sum == 0:\n",
    "            return 1\n",
    "        if index == len(arr):\n",
    "            return 0\n",
    "        \n",
    "        if (index, current_sum) in memo:\n",
    "            return memo[(index, current_sum)]\n",
    "\n",
    "        # Include the current element\n",
    "        include_current = recurse(index + 1, current_sum - arr[index])\n",
    "        \n",
    "        # Exclude the current element\n",
    "        exclude_current = recurse(index + 1, current_sum)\n",
    "        \n",
    "        # Store and return result\n",
    "        memo[(index, current_sum)] = include_current + exclude_current\n",
    "        return memo[(index, current_sum)]\n",
    "\n",
    "    return recurse(0, target)\n",
    "\n",
    "def count_subsets_with_difference(arr, diff):\n",
    "    total_sum = sum(arr)\n",
    "    if (total_sum + diff) % 2 != 0 or total_sum < diff:\n",
    "        return 0\n",
    "    target_sum = (total_sum + diff) // 2\n",
    "    return count_subsets_with_sum(arr, target_sum)\n",
    "\n",
    "# Example usage\n",
    "arr = [1, 2, 3, 3]\n",
    "diff = 2\n",
    "count = count_subsets_with_difference(arr, diff)\n",
    "print(\"Count of subsets with difference\", diff, \"is\", count)\n"
   ]
  },
  {
   "cell_type": "code",
   "execution_count": 12,
   "metadata": {},
   "outputs": [
    {
     "name": "stdout",
     "output_type": "stream",
     "text": [
      "Count of subsets with difference 2 is 0\n"
     ]
    }
   ],
   "source": [
    "def count_subsets_dp(arr, target):\n",
    "    n = len(arr)\n",
    "    \n",
    "    # Initialize DP table\n",
    "    dp = [[0] * (target + 1) for _ in range(n + 1)]\n",
    "    \n",
    "    # There's always one way to make a sum of 0: use an empty subset\n",
    "    for i in range(n + 1):\n",
    "        dp[i][0] = 1\n",
    "    \n",
    "    # Fill the DP table\n",
    "    for i in range(1, n + 1):\n",
    "        for j in range(1, target + 1):\n",
    "            if arr[i-1] <= j:\n",
    "                dp[i][j] = dp[i-1][j] + dp[i-1][j - arr[i-1]]\n",
    "            else:\n",
    "                dp[i][j] = dp[i-1][j]\n",
    "    \n",
    "    # Result is in dp[n][target]\n",
    "    return dp[n][target]\n",
    "\n",
    "def count_subsets_with_difference(arr, diff):\n",
    "    total_sum = sum(arr)\n",
    "    if (total_sum + diff) % 2 != 0 or total_sum < diff:\n",
    "        return 0\n",
    "    target_sum = (total_sum + diff) // 2\n",
    "    return count_subsets_dp(arr, target_sum)\n",
    "\n",
    "# Example usage\n",
    "arr = [1, 2, 3, 3]\n",
    "diff = 2\n",
    "count = count_subsets_with_difference(arr, diff)\n",
    "print(\"Count of subsets with difference\", diff, \"is\", count)\n"
   ]
  },
  {
   "cell_type": "markdown",
   "metadata": {},
   "source": [
    "Rod cutting "
   ]
  },
  {
   "cell_type": "code",
   "execution_count": 13,
   "metadata": {},
   "outputs": [
    {
     "name": "stdout",
     "output_type": "stream",
     "text": [
      "Maximum revenue for rod length 4 is 10\n"
     ]
    }
   ],
   "source": [
    "def cut_rod_recursive(prices, n):\n",
    "    if n == 0:\n",
    "        return 0\n",
    "    \n",
    "    max_value = float('-inf')\n",
    "    for i in range(1, n + 1):\n",
    "        max_value = max(max_value, prices[i - 1] + cut_rod_recursive(prices, n - i))\n",
    "    \n",
    "    return max_value\n",
    "\n",
    "# Example usage\n",
    "prices = [2, 5, 7, 8]\n",
    "n = 4\n",
    "print(\"Maximum revenue for rod length\", n, \"is\", cut_rod_recursive(prices, n))\n"
   ]
  },
  {
   "cell_type": "code",
   "execution_count": 14,
   "metadata": {},
   "outputs": [
    {
     "name": "stdout",
     "output_type": "stream",
     "text": [
      "Maximum revenue for rod length 4 is 10\n"
     ]
    }
   ],
   "source": [
    "def cut_rod_dp(prices, n):\n",
    "    # Initialize DP table\n",
    "    dp = [0] * (n + 1)\n",
    "    \n",
    "    # Compute the maximum revenue for each length\n",
    "    for i in range(1, n + 1):\n",
    "        max_value = float('-inf')\n",
    "        for j in range(1, i + 1):\n",
    "            max_value = max(max_value, prices[j - 1] + dp[i - j])\n",
    "        dp[i] = max_value\n",
    "    \n",
    "    return dp[n]\n",
    "\n",
    "# Example usage\n",
    "prices = [2, 5, 7, 8]\n",
    "n = 4\n",
    "print(\"Maximum revenue for rod length\", n, \"is\", cut_rod_dp(prices, n))\n"
   ]
  },
  {
   "cell_type": "markdown",
   "metadata": {},
   "source": [
    "Coin change prb \n"
   ]
  },
  {
   "cell_type": "code",
   "execution_count": 15,
   "metadata": {},
   "outputs": [
    {
     "name": "stdout",
     "output_type": "stream",
     "text": [
      "Minimum number of coins required to make change for 4 is 2\n"
     ]
    }
   ],
   "source": [
    "def min_coins_recursive(coins, amount):\n",
    "    memo = {}\n",
    "    \n",
    "    def recurse(amount):\n",
    "        # Base cases\n",
    "        if amount == 0:\n",
    "            return 0\n",
    "        if amount < 0:\n",
    "            return float('inf')\n",
    "        if amount in memo:\n",
    "            return memo[amount]\n",
    "        \n",
    "        # Recursive cases\n",
    "        min_count = float('inf')\n",
    "        for coin in coins:\n",
    "            result = recurse(amount - coin)\n",
    "            if result != float('inf'):\n",
    "                min_count = min(min_count, result + 1)\n",
    "        \n",
    "        memo[amount] = min_count\n",
    "        return min_count\n",
    "    \n",
    "    result = recurse(amount)\n",
    "    return result if result != float('inf') else -1\n",
    "\n",
    "# Example usage\n",
    "coins = [1, 2, 3]\n",
    "amount = 4\n",
    "print(\"Minimum number of coins required to make change for\", amount, \"is\", min_coins_recursive(coins, amount))\n"
   ]
  },
  {
   "cell_type": "code",
   "execution_count": 16,
   "metadata": {},
   "outputs": [
    {
     "name": "stdout",
     "output_type": "stream",
     "text": [
      "Minimum number of coins required to make change for 4 is 2\n"
     ]
    }
   ],
   "source": [
    "def min_coins_dp(coins, amount):\n",
    "    dp = [float('inf')] * (amount + 1)\n",
    "    dp[0] = 0  # No coins are needed to make amount 0\n",
    "\n",
    "    for i in range(1, amount + 1):\n",
    "        for coin in coins:\n",
    "            if i - coin >= 0:\n",
    "                dp[i] = min(dp[i], dp[i - coin] + 1)\n",
    "\n",
    "    return dp[amount] if dp[amount] != float('inf') else -1\n",
    "\n",
    "# Example usage\n",
    "coins = [1, 2, 3]\n",
    "amount = 4\n",
    "print(\"Minimum number of coins required to make change for\", amount, \"is\", min_coins_dp(coins, amount))\n"
   ]
  },
  {
   "cell_type": "markdown",
   "metadata": {},
   "source": [
    "Longest common subsequence\n",
    "\n",
    "Given two strings X and Y, find the length of their longest common subsequence and optionally, the subsequence itself.\n",
    "\n",
    "Input: X = \"ABCBDAB\", Y = \"BDCAB\"\n",
    "Output: LCS length = 4, LCS = \"BCAB\" or \"BDAB\""
   ]
  },
  {
   "cell_type": "code",
   "execution_count": 17,
   "metadata": {},
   "outputs": [
    {
     "name": "stdout",
     "output_type": "stream",
     "text": [
      "Length of LCS is 4\n"
     ]
    }
   ],
   "source": [
    "def lcs_recursive(X, Y, m, n):\n",
    "    # Base case: if either string is empty\n",
    "    if m == 0 or n == 0:\n",
    "        return 0\n",
    "    # If the last characters match\n",
    "    if X[m-1] == Y[n-1]:\n",
    "        return 1 + lcs_recursive(X, Y, m-1, n-1)\n",
    "    # If the last characters do not match\n",
    "    else:\n",
    "        return max(lcs_recursive(X, Y, m, n-1), lcs_recursive(X, Y, m-1, n))\n",
    "\n",
    "# Example usage\n",
    "X = \"ABCBDAB\"\n",
    "Y = \"BDCAB\"\n",
    "print(\"Length of LCS is\", lcs_recursive(X, Y, len(X), len(Y)))\n"
   ]
  },
  {
   "cell_type": "code",
   "execution_count": 18,
   "metadata": {},
   "outputs": [
    {
     "name": "stdout",
     "output_type": "stream",
     "text": [
      "Length of LCS is 4\n"
     ]
    }
   ],
   "source": [
    "def lcs_memoization(X, Y, m, n, dp):\n",
    "    # Base case: if either string is empty\n",
    "    if m == 0 or n == 0:\n",
    "        return 0\n",
    "    # Check if result is already computed\n",
    "    if dp[m][n] != -1:\n",
    "        return dp[m][n]\n",
    "    # If the last characters match\n",
    "    if X[m-1] == Y[n-1]:\n",
    "        dp[m][n] = 1 + lcs_memoization(X, Y, m-1, n-1, dp)\n",
    "    # If the last characters do not match\n",
    "    else:\n",
    "        dp[m][n] = max(lcs_memoization(X, Y, m, n-1, dp), lcs_memoization(X, Y, m-1, n, dp))\n",
    "    return dp[m][n]\n",
    "\n",
    "# Example usage\n",
    "X = \"ABCBDAB\"\n",
    "Y = \"BDCAB\"\n",
    "m = len(X)\n",
    "n = len(Y)\n",
    "dp = [[-1 for _ in range(n + 1)] for _ in range(m + 1)]\n",
    "print(\"Length of LCS is\", lcs_memoization(X, Y, m, n, dp))\n"
   ]
  },
  {
   "cell_type": "code",
   "execution_count": 19,
   "metadata": {},
   "outputs": [
    {
     "name": "stdout",
     "output_type": "stream",
     "text": [
      "Length of LCS is 4\n"
     ]
    }
   ],
   "source": [
    "def lcs_tabular(X, Y):\n",
    "    m = len(X)\n",
    "    n = len(Y)\n",
    "    dp = [[0 for _ in range(n + 1)] for _ in range(m + 1)]\n",
    "    \n",
    "    for i in range(1, m + 1):\n",
    "        for j in range(1, n + 1):\n",
    "            if X[i-1] == Y[j-1]:\n",
    "                dp[i][j] = dp[i-1][j-1] + 1\n",
    "            else:\n",
    "                dp[i][j] = max(dp[i-1][j], dp[i][j-1])\n",
    "    \n",
    "    return dp[m][n]\n",
    "\n",
    "# Example usage\n",
    "X = \"ABCBDAB\"\n",
    "Y = \"BDCAB\"\n",
    "print(\"Length of LCS is\", lcs_tabular(X, Y))\n"
   ]
  },
  {
   "cell_type": "code",
   "execution_count": 20,
   "metadata": {},
   "outputs": [
    {
     "name": "stdout",
     "output_type": "stream",
     "text": [
      "Length of LCS is 4\n",
      "LCS is BDAB\n"
     ]
    }
   ],
   "source": [
    "def lcs_tabular(X, Y):\n",
    "    m = len(X)\n",
    "    n = len(Y)\n",
    "    dp = [[0 for _ in range(n + 1)] for _ in range(m + 1)]\n",
    "    \n",
    "    # Fill the DP table\n",
    "    for i in range(1, m + 1):\n",
    "        for j in range(1, n + 1):\n",
    "            if X[i-1] == Y[j-1]:\n",
    "                dp[i][j] = dp[i-1][j-1] + 1\n",
    "            else:\n",
    "                dp[i][j] = max(dp[i-1][j], dp[i][j-1])\n",
    "    \n",
    "    # Construct the LCS\n",
    "    lcs_length = dp[m][n]\n",
    "    lcs = [\"\"] * lcs_length  # Create an array to store the LCS characters\n",
    "    i, j = m, n\n",
    "    index = lcs_length - 1\n",
    "\n",
    "    while i > 0 and j > 0:\n",
    "        if X[i-1] == Y[j-1]:\n",
    "            lcs[index] = X[i-1]\n",
    "            i -= 1\n",
    "            j -= 1\n",
    "            index -= 1\n",
    "        elif dp[i-1][j] > dp[i][j-1]:\n",
    "            i -= 1\n",
    "        else:\n",
    "            j -= 1\n",
    "\n",
    "    return dp[m][n], \"\".join(lcs)\n",
    "\n",
    "# Example usage\n",
    "X = \"ABCBDAB\"\n",
    "Y = \"BDCAB\"\n",
    "length, subsequence = lcs_tabular(X, Y)\n",
    "print(\"Length of LCS is\", length)\n",
    "print(\"LCS is\", subsequence)\n"
   ]
  },
  {
   "cell_type": "markdown",
   "metadata": {},
   "source": [
    "Longest common substring \n",
    "\n",
    "Goal\n",
    "Given two strings X and Y, find the length of their longest common substring and optionally, the substring itself.\n",
    "\n",
    "Examples\n",
    "Input: X = \"ABCBDAB\", Y = \"BDCAB\"\n",
    "Output: LCSubstr length = 2, LCSubstr = \"BD\""
   ]
  },
  {
   "cell_type": "code",
   "execution_count": 21,
   "metadata": {},
   "outputs": [
    {
     "name": "stdout",
     "output_type": "stream",
     "text": [
      "Length of LCSubstr is 2\n"
     ]
    }
   ],
   "source": [
    "def lcsubstr_recursive(X, Y, m, n, count):\n",
    "    if m == 0 or n == 0:\n",
    "        return count\n",
    "    if X[m-1] == Y[n-1]:\n",
    "        count = lcsubstr_recursive(X, Y, m-1, n-1, count + 1)\n",
    "    count = max(count, max(lcsubstr_recursive(X, Y, m, n-1, 0), lcsubstr_recursive(X, Y, m-1, n, 0)))\n",
    "    return count\n",
    "\n",
    "# Example usage\n",
    "X = \"ABCBDAB\"\n",
    "Y = \"BDCAB\"\n",
    "print(\"Length of LCSubstr is\", lcsubstr_recursive(X, Y, len(X), len(Y), 0))\n"
   ]
  },
  {
   "cell_type": "code",
   "execution_count": 23,
   "metadata": {},
   "outputs": [
    {
     "name": "stdout",
     "output_type": "stream",
     "text": [
      "Length of LCSubstr is 2\n"
     ]
    }
   ],
   "source": [
    "def lcsubstr_memoization(X, Y, m, n, count, dp):\n",
    "    if m == 0 or n == 0:\n",
    "        return count\n",
    "    if dp[m][n][count] != -1:\n",
    "        return dp[m][n][count]\n",
    "    if X[m-1] == Y[n-1]:\n",
    "        count = lcsubstr_memoization(X, Y, m-1, n-1, count + 1, dp)\n",
    "    dp[m][n][count] = max(count, max(lcsubstr_memoization(X, Y, m, n-1, 0, dp), lcsubstr_memoization(X, Y, m-1, n, 0, dp)))\n",
    "    return dp[m][n][count]\n",
    "\n",
    "# Example usage\n",
    "X = \"ABCBDAB\"\n",
    "Y = \"BDCAB\"\n",
    "m = len(X)\n",
    "n = len(Y)\n",
    "dp = [[[-1 for _ in range(min(m, n) + 1)] for _ in range(n + 1)] for _ in range(m + 1)]\n",
    "print(\"Length of LCSubstr is\", lcsubstr_memoization(X, Y, m, n, 0, dp))\n"
   ]
  },
  {
   "cell_type": "code",
   "execution_count": 24,
   "metadata": {},
   "outputs": [
    {
     "name": "stdout",
     "output_type": "stream",
     "text": [
      "Length of LCSubstr is 2\n",
      "LCSubstr is AB\n"
     ]
    }
   ],
   "source": [
    "def lcsubstr_tabular(X, Y):\n",
    "    m = len(X)\n",
    "    n = len(Y)\n",
    "    dp = [[0 for _ in range(n + 1)] for _ in range(m + 1)]\n",
    "    max_length = 0\n",
    "    end_index = 0  # To store the ending index of the longest common substring in X\n",
    "\n",
    "    for i in range(1, m + 1):\n",
    "        for j in range(1, n + 1):\n",
    "            if X[i-1] == Y[j-1]:\n",
    "                dp[i][j] = dp[i-1][j-1] + 1\n",
    "                if dp[i][j] > max_length:\n",
    "                    max_length = dp[i][j]\n",
    "                    end_index = i\n",
    "            else:\n",
    "                dp[i][j] = 0\n",
    "\n",
    "    # Longest common substring\n",
    "    lcs = X[end_index - max_length:end_index]\n",
    "\n",
    "    return max_length, lcs\n",
    "\n",
    "# Example usage\n",
    "X = \"ABCBDAB\"\n",
    "Y = \"BDCAB\"\n",
    "length, substring = lcsubstr_tabular(X, Y)\n",
    "print(\"Length of LCSubstr is\", length)\n",
    "print(\"LCSubstr is\", substring)\n"
   ]
  },
  {
   "cell_type": "markdown",
   "metadata": {},
   "source": [
    "Str1 to Str2\n",
    "\n",
    "Goal\n",
    "To find the minimum number of operations required to convert str1 to str2 and to provide a sequence of operations that achieves this transformation.\n",
    "\n",
    "Examples\n",
    "Input: str1 = \"horse\", str2 = \"ros\"\n",
    "Output: 3 (Operations: replace 'h' with 'r', remove 'e', remove 's')"
   ]
  },
  {
   "cell_type": "code",
   "execution_count": 25,
   "metadata": {},
   "outputs": [
    {
     "name": "stdout",
     "output_type": "stream",
     "text": [
      "Minimum edit distance is 3\n"
     ]
    }
   ],
   "source": [
    "def edit_distance_recursive(str1, str2, m, n):\n",
    "    if m == 0:\n",
    "        return n\n",
    "    if n == 0:\n",
    "        return m\n",
    "    if str1[m-1] == str2[n-1]:\n",
    "        return edit_distance_recursive(str1, str2, m-1, n-1)\n",
    "    return 1 + min(\n",
    "        edit_distance_recursive(str1, str2, m, n-1),    # Insert\n",
    "        edit_distance_recursive(str1, str2, m-1, n),    # Remove\n",
    "        edit_distance_recursive(str1, str2, m-1, n-1)   # Replace\n",
    "    )\n",
    "\n",
    "# Example usage\n",
    "str1 = \"horse\"\n",
    "str2 = \"ros\"\n",
    "print(\"Minimum edit distance is\", edit_distance_recursive(str1, str2, len(str1), len(str2)))\n"
   ]
  },
  {
   "cell_type": "code",
   "execution_count": 26,
   "metadata": {},
   "outputs": [
    {
     "name": "stdout",
     "output_type": "stream",
     "text": [
      "Minimum edit distance is 3\n"
     ]
    }
   ],
   "source": [
    "def edit_distance_memo(str1, str2, m, n, dp):\n",
    "    if m == 0:\n",
    "        return n\n",
    "    if n == 0:\n",
    "        return m\n",
    "    if dp[m][n] != -1:\n",
    "        return dp[m][n]\n",
    "    if str1[m-1] == str2[n-1]:\n",
    "        dp[m][n] = edit_distance_memo(str1, str2, m-1, n-1, dp)\n",
    "    else:\n",
    "        dp[m][n] = 1 + min(\n",
    "            edit_distance_memo(str1, str2, m, n-1, dp),    # Insert\n",
    "            edit_distance_memo(str1, str2, m-1, n, dp),    # Remove\n",
    "            edit_distance_memo(str1, str2, m-1, n-1, dp)   # Replace\n",
    "        )\n",
    "    return dp[m][n]\n",
    "\n",
    "# Example usage\n",
    "str1 = \"horse\"\n",
    "str2 = \"ros\"\n",
    "m = len(str1)\n",
    "n = len(str2)\n",
    "dp = [[-1 for _ in range(n + 1)] for _ in range(m + 1)]\n",
    "print(\"Minimum edit distance is\", edit_distance_memo(str1, str2, m, n, dp))\n"
   ]
  },
  {
   "cell_type": "code",
   "execution_count": 27,
   "metadata": {},
   "outputs": [
    {
     "name": "stdout",
     "output_type": "stream",
     "text": [
      "Minimum edit distance is 3\n",
      "Edit sequence:\n",
      "Replace h with r\n",
      "Delete r\n",
      "Delete e\n"
     ]
    }
   ],
   "source": [
    "def edit_distance_tabular(str1, str2):\n",
    "    m = len(str1)\n",
    "    n = len(str2)\n",
    "    dp = [[0 for _ in range(n + 1)] for _ in range(m + 1)]\n",
    "\n",
    "    # Initialize the table\n",
    "    for i in range(m + 1):\n",
    "        for j in range(n + 1):\n",
    "            if i == 0:\n",
    "                dp[i][j] = j  # str1 is empty, insert all characters of str2\n",
    "            elif j == 0:\n",
    "                dp[i][j] = i  # str2 is empty, remove all characters of str1\n",
    "            elif str1[i-1] == str2[j-1]:\n",
    "                dp[i][j] = dp[i-1][j-1]\n",
    "            else:\n",
    "                dp[i][j] = 1 + min(dp[i][j-1],    # Insert\n",
    "                                   dp[i-1][j],    # Remove\n",
    "                                   dp[i-1][j-1])  # Replace\n",
    "\n",
    "    # Construct the edit sequence\n",
    "    i, j = m, n\n",
    "    edit_sequence = []\n",
    "    while i > 0 and j > 0:\n",
    "        if str1[i-1] == str2[j-1]:\n",
    "            i -= 1\n",
    "            j -= 1\n",
    "        elif dp[i][j] == dp[i-1][j-1] + 1:\n",
    "            edit_sequence.append(f\"Replace {str1[i-1]} with {str2[j-1]}\")\n",
    "            i -= 1\n",
    "            j -= 1\n",
    "        elif dp[i][j] == dp[i-1][j] + 1:\n",
    "            edit_sequence.append(f\"Delete {str1[i-1]}\")\n",
    "            i -= 1\n",
    "        elif dp[i][j] == dp[i][j-1] + 1:\n",
    "            edit_sequence.append(f\"Insert {str2[j-1]}\")\n",
    "            j -= 1\n",
    "\n",
    "    while i > 0:\n",
    "        edit_sequence.append(f\"Delete {str1[i-1]}\")\n",
    "        i -= 1\n",
    "\n",
    "    while j > 0:\n",
    "        edit_sequence.append(f\"Insert {str2[j-1]}\")\n",
    "        j -= 1\n",
    "\n",
    "    return dp[m][n], edit_sequence\n",
    "\n",
    "# Example usage\n",
    "str1 = \"horse\"\n",
    "str2 = \"ros\"\n",
    "distance, sequence = edit_distance_tabular(str1, str2)\n",
    "print(\"Minimum edit distance is\", distance)\n",
    "print(\"Edit sequence:\")\n",
    "for operation in reversed(sequence):\n",
    "    print(operation)\n"
   ]
  },
  {
   "cell_type": "markdown",
   "metadata": {},
   "source": [
    "Longest repeating subsequence\n",
    "Goal\n",
    "To find both the length of the longest repeating subsequence and the subsequence itself.\n",
    "\n",
    "Examples\n",
    "Input: str = \"aabebcdd\"\n",
    "Output: Length = 3, Subsequence = \"abd\""
   ]
  },
  {
   "cell_type": "code",
   "execution_count": 28,
   "metadata": {},
   "outputs": [
    {
     "name": "stdout",
     "output_type": "stream",
     "text": [
      "Length of Longest Repeating Subsequence is 3\n"
     ]
    }
   ],
   "source": [
    "def lrs_recursive(str, i, j):\n",
    "    if i == 0 or j == 0:\n",
    "        return 0\n",
    "    if str[i-1] == str[j-1] and i != j:\n",
    "        return 1 + lrs_recursive(str, i-1, j-1)\n",
    "    return max(lrs_recursive(str, i, j-1), lrs_recursive(str, i-1, j))\n",
    "\n",
    "# Example usage\n",
    "str = \"aabebcdd\"\n",
    "print(\"Length of Longest Repeating Subsequence is\", lrs_recursive(str, len(str), len(str)))\n"
   ]
  },
  {
   "cell_type": "code",
   "execution_count": 29,
   "metadata": {},
   "outputs": [
    {
     "name": "stdout",
     "output_type": "stream",
     "text": [
      "Length of Longest Repeating Subsequence is 3\n"
     ]
    }
   ],
   "source": [
    "def lrs_memo(str, i, j, dp):\n",
    "    if i == 0 or j == 0:\n",
    "        return 0\n",
    "    if dp[i][j] != -1:\n",
    "        return dp[i][j]\n",
    "    if str[i-1] == str[j-1] and i != j:\n",
    "        dp[i][j] = 1 + lrs_memo(str, i-1, j-1, dp)\n",
    "    else:\n",
    "        dp[i][j] = max(lrs_memo(str, i, j-1, dp), lrs_memo(str, i-1, j, dp))\n",
    "    return dp[i][j]\n",
    "\n",
    "# Example usage\n",
    "str = \"aabebcdd\"\n",
    "n = len(str)\n",
    "dp = [[-1 for _ in range(n + 1)] for _ in range(n + 1)]\n",
    "print(\"Length of Longest Repeating Subsequence is\", lrs_memo(str, n, n, dp))\n"
   ]
  },
  {
   "cell_type": "code",
   "execution_count": 30,
   "metadata": {},
   "outputs": [
    {
     "name": "stdout",
     "output_type": "stream",
     "text": [
      "Length of Longest Repeating Subsequence is 3\n",
      "Longest Repeating Subsequence is abd\n"
     ]
    }
   ],
   "source": [
    "def lrs_tabular(str):\n",
    "    n = len(str)\n",
    "    dp = [[0 for _ in range(n + 1)] for _ in range(n + 1)]\n",
    "\n",
    "    # Fill dp table\n",
    "    for i in range(1, n + 1):\n",
    "        for j in range(1, n + 1):\n",
    "            if str[i-1] == str[j-1] and i != j:\n",
    "                dp[i][j] = 1 + dp[i-1][j-1]\n",
    "            else:\n",
    "                dp[i][j] = max(dp[i-1][j], dp[i][j-1])\n",
    "\n",
    "    # Length of LRS\n",
    "    lrs_length = dp[n][n]\n",
    "\n",
    "    # Construct LRS from dp table\n",
    "    i, j = n, n\n",
    "    lrs = []\n",
    "    while i > 0 and j > 0:\n",
    "        if dp[i][j] == dp[i-1][j-1] + 1:\n",
    "            lrs.append(str[i-1])\n",
    "            i -= 1\n",
    "            j -= 1\n",
    "        elif dp[i][j] == dp[i-1][j]:\n",
    "            i -= 1\n",
    "        else:\n",
    "            j -= 1\n",
    "\n",
    "    lrs.reverse()\n",
    "    return lrs_length, ''.join(lrs)\n",
    "\n",
    "# Example usage\n",
    "str = \"aabebcdd\"\n",
    "length, lrs = lrs_tabular(str)\n",
    "print(\"Length of Longest Repeating Subsequence is\", length)\n",
    "print(\"Longest Repeating Subsequence is\", lrs)\n"
   ]
  },
  {
   "cell_type": "markdown",
   "metadata": {},
   "source": [
    "Subsequence patten matching\n",
    "\n",
    "Goal\n",
    "To check if the pattern is a subsequence of text and count the number of ways the pattern can appear as a subsequence in text.\n",
    "\n",
    "Examples\n",
    "Input: text = \"abcde\", pattern = \"ace\"\n",
    "\n",
    "Output: True, 1\n",
    "\n",
    "Input: text = \"babgbag\", pattern = \"bag\"\n",
    "\n",
    "Output: True, 5"
   ]
  },
  {
   "cell_type": "code",
   "execution_count": 32,
   "metadata": {},
   "outputs": [
    {
     "name": "stdout",
     "output_type": "stream",
     "text": [
      "Number of ways to form pattern as a subsequence: 5\n"
     ]
    }
   ],
   "source": [
    "def count_subsequences_recursive(text, pattern, i, j):\n",
    "    # Base cases\n",
    "    if j == len(pattern):\n",
    "        return 1\n",
    "    if i == len(text):\n",
    "        return 0\n",
    "    \n",
    "    if text[i] == pattern[j]:\n",
    "        return count_subsequences_recursive(text, pattern, i + 1, j + 1) + count_subsequences_recursive(text, pattern, i + 1, j)\n",
    "    else:\n",
    "        return count_subsequences_recursive(text, pattern, i + 1, j)\n",
    "\n",
    "# Example usage\n",
    "text = \"babgbag\"\n",
    "pattern = \"bag\"\n",
    "print(\"Number of ways to form pattern as a subsequence:\", count_subsequences_recursive(text, pattern, 0, 0))\n"
   ]
  },
  {
   "cell_type": "code",
   "execution_count": 33,
   "metadata": {},
   "outputs": [
    {
     "name": "stdout",
     "output_type": "stream",
     "text": [
      "Number of ways to form pattern as a subsequence: 5\n"
     ]
    }
   ],
   "source": [
    "def count_subsequences_memo(text, pattern, i, j, dp):\n",
    "    # Base cases\n",
    "    if j == len(pattern):\n",
    "        return 1\n",
    "    if i == len(text):\n",
    "        return 0\n",
    "    \n",
    "    if dp[i][j] != -1:\n",
    "        return dp[i][j]\n",
    "    \n",
    "    if text[i] == pattern[j]:\n",
    "        dp[i][j] = count_subsequences_memo(text, pattern, i + 1, j + 1, dp) + count_subsequences_memo(text, pattern, i + 1, j, dp)\n",
    "    else:\n",
    "        dp[i][j] = count_subsequences_memo(text, pattern, i + 1, j, dp)\n",
    "    \n",
    "    return dp[i][j]\n",
    "\n",
    "# Example usage\n",
    "text = \"babgbag\"\n",
    "pattern = \"bag\"\n",
    "n, m = len(text), len(pattern)\n",
    "dp = [[-1 for _ in range(m + 1)] for _ in range(n + 1)]\n",
    "print(\"Number of ways to form pattern as a subsequence:\", count_subsequences_memo(text, pattern, 0, 0, dp))\n"
   ]
  },
  {
   "cell_type": "code",
   "execution_count": 34,
   "metadata": {},
   "outputs": [
    {
     "name": "stdout",
     "output_type": "stream",
     "text": [
      "Number of ways to form pattern as a subsequence: 5\n"
     ]
    }
   ],
   "source": [
    "def count_subsequences_tabular(text, pattern):\n",
    "    n, m = len(text), len(pattern)\n",
    "    dp = [[0 for _ in range(m + 1)] for _ in range(n + 1)]\n",
    "\n",
    "    # An empty pattern can always be formed\n",
    "    for i in range(n + 1):\n",
    "        dp[i][0] = 1\n",
    "\n",
    "    # Fill the dp table\n",
    "    for i in range(1, n + 1):\n",
    "        for j in range(1, m + 1):\n",
    "            if text[i-1] == pattern[j-1]:\n",
    "                dp[i][j] = dp[i-1][j-1] + dp[i-1][j]\n",
    "            else:\n",
    "                dp[i][j] = dp[i-1][j]\n",
    "\n",
    "    return dp[n][m]\n",
    "\n",
    "# Example usage\n",
    "text = \"babgbag\"\n",
    "pattern = \"bag\"\n",
    "print(\"Number of ways to form pattern as a subsequence:\", count_subsequences_tabular(text, pattern))\n"
   ]
  },
  {
   "cell_type": "markdown",
   "metadata": {},
   "source": [
    "Pallindrome partition\n",
    "\n",
    "Goal\n",
    "To find both the minimum number of partitions needed and the actual partitions where each partitioned substring is a palindrome.\n",
    "\n",
    "Examples\n",
    "Input: str = \"aab\"\n",
    "Output: 1, [\"aa\", \"b\"]\n",
    "Explanation\n",
    "In the string \"aab\", the minimum number of palindromic partitions is 1, resulting in the partitions [\"aa\", \"b\"]."
   ]
  },
  {
   "cell_type": "code",
   "execution_count": 35,
   "metadata": {},
   "outputs": [
    {
     "name": "stdout",
     "output_type": "stream",
     "text": [
      "Minimum palindrome partitions needed: 1\n"
     ]
    }
   ],
   "source": [
    "def is_palindrome(s, i, j):\n",
    "    return s[i:j+1] == s[i:j+1][::-1]\n",
    "\n",
    "def min_palindrome_partitions_recursive(s, i, j):\n",
    "    if i >= j or is_palindrome(s, i, j):\n",
    "        return 0\n",
    "    \n",
    "    min_cuts = float('inf')\n",
    "    for k in range(i, j):\n",
    "        if is_palindrome(s, i, k):\n",
    "            cuts = 1 + min_palindrome_partitions_recursive(s, k+1, j)\n",
    "            min_cuts = min(min_cuts, cuts)\n",
    "    \n",
    "    return min_cuts\n",
    "\n",
    "# Example usage\n",
    "str = \"aab\"\n",
    "print(\"Minimum palindrome partitions needed:\", min_palindrome_partitions_recursive(str, 0, len(str)-1))\n"
   ]
  },
  {
   "cell_type": "code",
   "execution_count": 36,
   "metadata": {},
   "outputs": [
    {
     "name": "stdout",
     "output_type": "stream",
     "text": [
      "Minimum palindrome partitions needed: 1\n"
     ]
    }
   ],
   "source": [
    "def min_palindrome_partitions_memo(s, i, j, dp):\n",
    "    if i >= j or is_palindrome(s, i, j):\n",
    "        return 0\n",
    "    \n",
    "    if dp[i][j] != -1:\n",
    "        return dp[i][j]\n",
    "    \n",
    "    min_cuts = float('inf')\n",
    "    for k in range(i, j):\n",
    "        if is_palindrome(s, i, k):\n",
    "            cuts = 1 + min_palindrome_partitions_memo(s, k+1, j, dp)\n",
    "            min_cuts = min(min_cuts, cuts)\n",
    "    \n",
    "    dp[i][j] = min_cuts\n",
    "    return dp[i][j]\n",
    "\n",
    "# Example usage\n",
    "str = \"aab\"\n",
    "n = len(str)\n",
    "dp = [[-1 for _ in range(n)] for _ in range(n)]\n",
    "print(\"Minimum palindrome partitions needed:\", min_palindrome_partitions_memo(str, 0, len(str)-1, dp))\n"
   ]
  },
  {
   "cell_type": "code",
   "execution_count": 37,
   "metadata": {},
   "outputs": [
    {
     "name": "stdout",
     "output_type": "stream",
     "text": [
      "Minimum palindrome partitions needed: 1\n"
     ]
    }
   ],
   "source": [
    "def min_palindrome_partitions_tabular(s):\n",
    "    n = len(s)\n",
    "    dp = [[0 for _ in range(n)] for _ in range(n)]\n",
    "    palindrome = [[False for _ in range(n)] for _ in range(n)]\n",
    "\n",
    "    # Fill the palindrome table\n",
    "    for i in range(n):\n",
    "        palindrome[i][i] = True\n",
    "    for length in range(2, n+1):\n",
    "        for i in range(n-length+1):\n",
    "            j = i + length - 1\n",
    "            if length == 2:\n",
    "                palindrome[i][j] = (s[i] == s[j])\n",
    "            else:\n",
    "                palindrome[i][j] = (s[i] == s[j]) and palindrome[i+1][j-1]\n",
    "\n",
    "    for i in range(n):\n",
    "        if palindrome[0][i]:\n",
    "            dp[0][i] = 0\n",
    "        else:\n",
    "            dp[0][i] = float('inf')\n",
    "            for j in range(i):\n",
    "                if palindrome[j+1][i] and dp[0][j] + 1 < dp[0][i]:\n",
    "                    dp[0][i] = dp[0][j] + 1\n",
    "\n",
    "    return dp[0][n-1]\n",
    "\n",
    "# Example usage\n",
    "str = \"aab\"\n",
    "print(\"Minimum palindrome partitions needed:\", min_palindrome_partitions_tabular(str))\n"
   ]
  },
  {
   "cell_type": "markdown",
   "metadata": {},
   "source": [
    "Scrambled String \n",
    "\n",
    "Goal\n",
    "To determine if s2 can be formed by scrambling s1.\n",
    "\n",
    "Examples\n",
    "Input: s1 = \"great\", s2 = \"rgeat\"\n",
    "Output: True\n",
    "\n",
    "Input: s1 = \"abcde\", s2 = \"caebd\"\n",
    "Output: False\n",
    "\n",
    "Explanation\n",
    "In the first example, s2 = \"rgeat\" can be formed by swapping the left and right substrings of s1 = \"great\" in a certain way:\n",
    "\n",
    "\"great\" -> \"gr | eat\" (split into \"gr\" and \"eat\")\n",
    "\"gr | eat\" -> \"rge | at\" (swap \"gr\" and \"rge\", and \"eat\" and \"at\")\n",
    "\"rge | at\" -> \"rge | at\" (no more swaps needed)\n",
    "So, \"rgeat\" is a scrambled string of \"great\"."
   ]
  },
  {
   "cell_type": "code",
   "execution_count": 38,
   "metadata": {},
   "outputs": [
    {
     "name": "stdout",
     "output_type": "stream",
     "text": [
      "Is s2 a scrambled string of s1?: True\n"
     ]
    }
   ],
   "source": [
    "def is_scramble_recursive(s1, s2):\n",
    "    if s1 == s2:\n",
    "        return True\n",
    "    if sorted(s1) != sorted(s2):\n",
    "        return False\n",
    "    \n",
    "    n = len(s1)\n",
    "    for i in range(1, n):\n",
    "        if (is_scramble_recursive(s1[:i], s2[:i]) and is_scramble_recursive(s1[i:], s2[i:])) or \\\n",
    "           (is_scramble_recursive(s1[:i], s2[-i:]) and is_scramble_recursive(s1[i:], s2[:-i])):\n",
    "            return True\n",
    "    \n",
    "    return False\n",
    "\n",
    "# Example usage\n",
    "s1 = \"great\"\n",
    "s2 = \"rgeat\"\n",
    "print(\"Is s2 a scrambled string of s1?:\", is_scramble_recursive(s1, s2))\n"
   ]
  },
  {
   "cell_type": "code",
   "execution_count": 39,
   "metadata": {},
   "outputs": [
    {
     "name": "stdout",
     "output_type": "stream",
     "text": [
      "Is s2 a scrambled string of s1?: True\n"
     ]
    }
   ],
   "source": [
    "def is_scramble_memo(s1, s2):\n",
    "    n = len(s1)\n",
    "    dp = [[[-1 for _ in range(n)] for _ in range(n)] for _ in range(n)]\n",
    "    \n",
    "    def solve(i1, i2, length):\n",
    "        if dp[i1][i2][length-1] != -1:\n",
    "            return dp[i1][i2][length-1]\n",
    "        \n",
    "        s1_sub = s1[i1:i1+length]\n",
    "        s2_sub = s2[i2:i2+length]\n",
    "        \n",
    "        if s1_sub == s2_sub:\n",
    "            dp[i1][i2][length-1] = True\n",
    "            return True\n",
    "        if sorted(s1_sub) != sorted(s2_sub):\n",
    "            dp[i1][i2][length-1] = False\n",
    "            return False\n",
    "        \n",
    "        for i in range(1, length):\n",
    "            if (solve(i1, i2, i) and solve(i1+i, i2+i, length-i)) or \\\n",
    "               (solve(i1, i2+length-i, i) and solve(i1+i, i2, length-i)):\n",
    "                dp[i1][i2][length-1] = True\n",
    "                return True\n",
    "        \n",
    "        dp[i1][i2][length-1] = False\n",
    "        return False\n",
    "    \n",
    "    return solve(0, 0, n)\n",
    "\n",
    "# Example usage\n",
    "s1 = \"great\"\n",
    "s2 = \"rgeat\"\n",
    "print(\"Is s2 a scrambled string of s1?:\", is_scramble_memo(s1, s2))\n"
   ]
  },
  {
   "cell_type": "code",
   "execution_count": 40,
   "metadata": {},
   "outputs": [
    {
     "name": "stdout",
     "output_type": "stream",
     "text": [
      "Is s2 a scrambled string of s1?: True\n"
     ]
    }
   ],
   "source": [
    "def is_scramble_tabular(s1, s2):\n",
    "    n = len(s1)\n",
    "    if n != len(s2):\n",
    "        return False\n",
    "    \n",
    "    dp = [[[-1 for _ in range(n+1)] for _ in range(n)] for _ in range(n)]\n",
    "    \n",
    "    for i in range(n):\n",
    "        for j in range(n):\n",
    "            dp[i][j][1] = (s1[i] == s2[j])\n",
    "    \n",
    "    for length in range(2, n+1):\n",
    "        for i in range(n-length+1):\n",
    "            for j in range(n-length+1):\n",
    "                dp[i][j][length] = False\n",
    "                for k in range(1, length):\n",
    "                    if (dp[i][j][k] and dp[i+k][j+k][length-k]) or \\\n",
    "                       (dp[i][j+length-k][k] and dp[i+k][j][length-k]):\n",
    "                        dp[i][j][length] = True\n",
    "                        break\n",
    "    \n",
    "    return dp[0][0][n]\n",
    "\n",
    "# Example usage\n",
    "s1 = \"great\"\n",
    "s2 = \"rgeat\"\n",
    "print(\"Is s2 a scrambled string of s1?:\", is_scramble_tabular(s1, s2))\n"
   ]
  },
  {
   "cell_type": "markdown",
   "metadata": {},
   "source": [
    "Egg droping \n",
    "Goal\n",
    "To find the minimum number of attempts required to determine the critical floor with k eggs and n floors.\n",
    "\n",
    "Examples\n",
    "Input: k = 2, n = 6\n",
    "\n",
    "Output: 3\n",
    "\n",
    "Input: k = 3, n = 14\n",
    "\n",
    "Output: 4\n",
    "\n",
    "Explanation\n",
    "For k = 2 eggs and n = 6 floors:\n",
    "\n",
    "Start by dropping an egg from floor 3. If it breaks, then test floors 1 and 2 (2 more attempts). If it doesn't break, test floors 4, 5, and 6 (2 more attempts).\n",
    "In total, it takes 3 attempts to find the critical floor."
   ]
  },
  {
   "cell_type": "code",
   "execution_count": 1,
   "metadata": {},
   "outputs": [
    {
     "name": "stdout",
     "output_type": "stream",
     "text": [
      "Minimum number of attempts (recursive): 3\n"
     ]
    }
   ],
   "source": [
    "def egg_drop_recursive(k, n):\n",
    "    if n == 1 or n == 0:\n",
    "        return n\n",
    "    if k == 1:\n",
    "        return n\n",
    "    \n",
    "    min_attempts = float('inf')\n",
    "    \n",
    "    for x in range(1, n + 1):\n",
    "        res = max(egg_drop_recursive(k - 1, x - 1), egg_drop_recursive(k, n - x))\n",
    "        min_attempts = min(min_attempts, res + 1)\n",
    "    \n",
    "    return min_attempts\n",
    "\n",
    "# Example usage\n",
    "k = 2\n",
    "n = 6\n",
    "print(\"Minimum number of attempts (recursive):\", egg_drop_recursive(k, n))\n"
   ]
  },
  {
   "cell_type": "code",
   "execution_count": 2,
   "metadata": {},
   "outputs": [
    {
     "name": "stdout",
     "output_type": "stream",
     "text": [
      "Minimum number of attempts (memoization): 3\n"
     ]
    }
   ],
   "source": [
    "def egg_drop_memo(k, n):\n",
    "    dp = [[-1 for _ in range(n + 1)] for _ in range(k + 1)]\n",
    "    \n",
    "    def solve(k, n):\n",
    "        if n == 0 or n == 1:\n",
    "            return n\n",
    "        if k == 1:\n",
    "            return n\n",
    "        \n",
    "        if dp[k][n] != -1:\n",
    "            return dp[k][n]\n",
    "        \n",
    "        min_attempts = float('inf')\n",
    "        \n",
    "        for x in range(1, n + 1):\n",
    "            if dp[k-1][x-1] == -1:\n",
    "                dp[k-1][x-1] = solve(k-1, x-1)\n",
    "            if dp[k][n-x] == -1:\n",
    "                dp[k][n-x] = solve(k, n-x)\n",
    "            \n",
    "            res = max(dp[k-1][x-1], dp[k][n-x])\n",
    "            min_attempts = min(min_attempts, res + 1)\n",
    "        \n",
    "        dp[k][n] = min_attempts\n",
    "        return min_attempts\n",
    "    \n",
    "    return solve(k, n)\n",
    "\n",
    "# Example usage\n",
    "k = 2\n",
    "n = 6\n",
    "print(\"Minimum number of attempts (memoization):\", egg_drop_memo(k, n))\n"
   ]
  },
  {
   "cell_type": "code",
   "execution_count": 3,
   "metadata": {},
   "outputs": [
    {
     "name": "stdout",
     "output_type": "stream",
     "text": [
      "Minimum number of attempts (tabular): 3\n"
     ]
    }
   ],
   "source": [
    "def egg_drop_tabular(k, n):\n",
    "    dp = [[0 for _ in range(n + 1)] for _ in range(k + 1)]\n",
    "    \n",
    "    for i in range(1, k + 1):\n",
    "        dp[i][0] = 0\n",
    "        dp[i][1] = 1\n",
    "    \n",
    "    for j in range(1, n + 1):\n",
    "        dp[1][j] = j\n",
    "    \n",
    "    for i in range(2, k + 1):\n",
    "        for j in range(2, n + 1):\n",
    "            dp[i][j] = float('inf')\n",
    "            for x in range(1, j + 1):\n",
    "                res = 1 + max(dp[i-1][x-1], dp[i][j-x])\n",
    "                if res < dp[i][j]:\n",
    "                    dp[i][j] = res\n",
    "    \n",
    "    return dp[k][n]\n",
    "\n",
    "# Example usage\n",
    "k = 2\n",
    "n = 6\n",
    "print(\"Minimum number of attempts (tabular):\", egg_drop_tabular(k, n))\n"
   ]
  },
  {
   "cell_type": "code",
   "execution_count": null,
   "metadata": {},
   "outputs": [],
   "source": []
  }
 ],
 "metadata": {
  "kernelspec": {
   "display_name": "Python 3",
   "language": "python",
   "name": "python3"
  },
  "language_info": {
   "codemirror_mode": {
    "name": "ipython",
    "version": 3
   },
   "file_extension": ".py",
   "mimetype": "text/x-python",
   "name": "python",
   "nbconvert_exporter": "python",
   "pygments_lexer": "ipython3",
   "version": "3.11.2"
  }
 },
 "nbformat": 4,
 "nbformat_minor": 2
}
